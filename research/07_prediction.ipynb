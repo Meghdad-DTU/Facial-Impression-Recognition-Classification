{
 "cells": [
  {
   "cell_type": "code",
   "execution_count": null,
   "metadata": {},
   "outputs": [],
   "source": [
    "import os"
   ]
  },
  {
   "cell_type": "code",
   "execution_count": null,
   "metadata": {},
   "outputs": [],
   "source": [
    "os.chdir('../')\n",
    "%pwd"
   ]
  },
  {
   "cell_type": "code",
   "execution_count": null,
   "metadata": {},
   "outputs": [],
   "source": [
    "from dataclasses import dataclass\n",
    "from pathlib import Path\n",
    "\n",
    "@dataclass(frozen=True)\n",
    "class PredictionConfig:\n",
    "    path_of_model: Path\n",
    "    pre_trained_face_detector: Path   "
   ]
  },
  {
   "cell_type": "code",
   "execution_count": null,
   "metadata": {},
   "outputs": [],
   "source": [
    "from cnnClassifier.constants import *\n",
    "from cnnClassifier.utils import read_yaml, create_directories\n",
    "\n",
    "class configurationManeger:\n",
    "    def __init__(self, \n",
    "                 config_filepath = CONFIG_FILE_PATH,\n",
    "                 secret_filepath = SECRET_FILE_PATH,                 \n",
    "                 params_filepath = PARAMS_FILE_PATH):\n",
    "        \n",
    "        self.config = read_yaml(config_filepath) \n",
    "        self.secret = read_yaml(secret_filepath)        \n",
    "        self.params = read_yaml(params_filepath)\n",
    "\n",
    "        create_directories([self.config.artifacts_root])  \n",
    "\n",
    "    def get_prediction_config(self) -> PredictionConfig:\n",
    "        prediction_config = PredictionConfig(\n",
    "            path_of_model= self.config.training.trained_model_path,           \n",
    "            pre_trained_face_detector = 'haarcascade_frontalface_default.xml'\n",
    "            )\n",
    "        \n",
    "        return prediction_config"
   ]
  },
  {
   "cell_type": "code",
   "execution_count": null,
   "metadata": {},
   "outputs": [],
   "source": [
    "import sys\n",
    "from cnnClassifier.exception import CustomException\n",
    "import numpy as np\n",
    "import cv2\n",
    "from cnnClassifier.utils import load_object"
   ]
  },
  {
   "cell_type": "code",
   "execution_count": null,
   "metadata": {},
   "outputs": [],
   "source": [
    "class Prediction:\n",
    "    def __init__(self, filename: Path, config: PredictionConfig):\n",
    "        self.config = config\n",
    "        self.filename = filename\n",
    "\n",
    "    def predict(self):\n",
    "        emotion_dict = {0: \"Neutral\", 1: \"Disgusted\", 2: \"Fearful\", 3: \"Happy\", 4: \"Sad\", 5: \"Surprised\", 6: \"Neutral\"}\n",
    "        \n",
    "        model = load_object(self.config.path_of_model, h5=True)\n",
    "        facecasc = cv2.CascadeClassifier(self.config.pre_trained_face_detector)\n",
    "        image = cv2.imread(self.filename)\n",
    "        gray = cv2.cvtColor(image, cv2.COLOR_BGR2GRAY)\n",
    "        faces = facecasc.detectMultiScale(gray, scaleFactor=1.3, minNeighbors=10)\n",
    "        print(\"No of faces : \",len(faces))\n",
    "        i =1\n",
    "        for (x, y, w, h) in faces:\n",
    "            cv2.rectangle(image, (x, y), (x+w, y+h), (0, 255, 0), 2)\n",
    "            # If the input of trained model has one chanels\n",
    "            #roi_gray = gray[y:y + h, x:x + w] \n",
    "            # If the input of trained model has three chanels         \n",
    "            roi_color = image[y:y+h, x:x+w]               \n",
    "            # Croping\n",
    "            #cropped_img = np.expand_dims(np.expand_dims(cv2.resize(roi_gray, (48, 48)), -1), 0)\n",
    "            cropped_img = np.expand_dims(np.expand_dims(cv2.resize(roi_color, (48, 48)), -1), 0)\n",
    "            prediction = model.predict(cropped_img)\n",
    "\n",
    "            maxindex = int(np.argmax(prediction))            \n",
    "            cv2.putText(image, emotion_dict[maxindex], (x+10, y-20), cv2.FONT_HERSHEY_SIMPLEX, 0.7, (255, 255, 255), 2)\n",
    "        \n",
    "        file_name = os.path.basename(self.filename )\n",
    "        dir_name = os.path.dirname(self.filename) \n",
    "        cv2.imwrite(os.path.join(dir_name, 'pred_'+file_name), image)"
   ]
  },
  {
   "cell_type": "code",
   "execution_count": null,
   "metadata": {},
   "outputs": [],
   "source": [
    "try:\n",
    "    config = configurationManeger()\n",
    "    pred_config = config.get_prediction_config()\n",
    "    prediction = Prediction('images/img2.png', pred_config)\n",
    "    prediction.predict()\n",
    "    \n",
    "except Exception as e:\n",
    "    raise CustomException(e, sys)"
   ]
  }
 ],
 "metadata": {
  "language_info": {
   "name": "python"
  },
  "orig_nbformat": 4
 },
 "nbformat": 4,
 "nbformat_minor": 2
}
