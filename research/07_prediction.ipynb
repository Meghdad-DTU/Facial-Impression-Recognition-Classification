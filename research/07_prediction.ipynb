{
 "cells": [
  {
   "cell_type": "code",
   "execution_count": 1,
   "metadata": {},
   "outputs": [],
   "source": [
    "import os"
   ]
  },
  {
   "cell_type": "code",
   "execution_count": 2,
   "metadata": {},
   "outputs": [
    {
     "data": {
      "text/plain": [
       "'/home/paladin/Downloads/Facial_Impression_Recognition_Calassification'"
      ]
     },
     "execution_count": 2,
     "metadata": {},
     "output_type": "execute_result"
    }
   ],
   "source": [
    "os.chdir('../')\n",
    "%pwd"
   ]
  },
  {
   "cell_type": "code",
   "execution_count": 3,
   "metadata": {},
   "outputs": [],
   "source": [
    "from dataclasses import dataclass\n",
    "from pathlib import Path\n",
    "\n",
    "@dataclass(frozen=True)\n",
    "class PredictionConfig:\n",
    "    path_of_model: Path\n",
    "    path_of_model_json: Path\n",
    "    pre_trained_face_detector: Path   "
   ]
  },
  {
   "cell_type": "code",
   "execution_count": 4,
   "metadata": {},
   "outputs": [
    {
     "name": "stderr",
     "output_type": "stream",
     "text": [
      "2023-08-04 14:48:26.487222: I tensorflow/tsl/cuda/cudart_stub.cc:28] Could not find cuda drivers on your machine, GPU will not be used.\n",
      "2023-08-04 14:48:26.546501: I tensorflow/tsl/cuda/cudart_stub.cc:28] Could not find cuda drivers on your machine, GPU will not be used.\n",
      "2023-08-04 14:48:26.547848: I tensorflow/core/platform/cpu_feature_guard.cc:182] This TensorFlow binary is optimized to use available CPU instructions in performance-critical operations.\n",
      "To enable the following instructions: AVX2 FMA, in other operations, rebuild TensorFlow with the appropriate compiler flags.\n",
      "2023-08-04 14:48:27.700637: W tensorflow/compiler/tf2tensorrt/utils/py_utils.cc:38] TF-TRT Warning: Could not find TensorRT\n"
     ]
    }
   ],
   "source": [
    "from cnnClassifier.constants import *\n",
    "from cnnClassifier.utils import read_yaml, create_directories\n",
    "\n",
    "class configurationManeger:\n",
    "    def __init__(self, \n",
    "                 config_filepath = CONFIG_FILE_PATH,\n",
    "                 secret_filepath = SECRET_FILE_PATH,                 \n",
    "                 params_filepath = PARAMS_FILE_PATH):\n",
    "        \n",
    "        self.config = read_yaml(config_filepath) \n",
    "        self.secret = read_yaml(secret_filepath)        \n",
    "        self.params = read_yaml(params_filepath)\n",
    "\n",
    "        create_directories([self.config.artifacts_root])  \n",
    "\n",
    "    def get_prediction_config(self) -> PredictionConfig:\n",
    "        prediction_config = PredictionConfig(\n",
    "            path_of_model= self.config.training.trained_model_path,    \n",
    "            path_of_model_json = self.config.training.trained_model_json_path,       \n",
    "            pre_trained_face_detector = 'haarcascade_frontalface_default.xml'           \n",
    "            )\n",
    "        \n",
    "        return prediction_config"
   ]
  },
  {
   "cell_type": "code",
   "execution_count": 5,
   "metadata": {},
   "outputs": [],
   "source": [
    "import sys\n",
    "from cnnClassifier.exception import CustomException\n",
    "from cnnClassifier.utils import load_model\n",
    "import numpy as np\n",
    "import cv2\n",
    "import matplotlib.pyplot as plt"
   ]
  },
  {
   "cell_type": "code",
   "execution_count": 6,
   "metadata": {},
   "outputs": [],
   "source": [
    "class Prediction:\n",
    "    def __init__(self, filename: Path, config: PredictionConfig):\n",
    "        self.config = config\n",
    "        self.filename = filename\n",
    "  \n",
    "\n",
    "    def predict(self):\n",
    "        emotion_dict = {0: \"Neutral\", 1: \"Disgusted\", 2: \"Fearful\", 3: \"Happy\", 4: \"Sad\", 5: \"Surprised\", 6: \"Neutral\"}\n",
    "\n",
    "        model = load_model(h5_path=self.config.path_of_model, json_path= self.config.path_of_model_json)              \n",
    "        \n",
    "        facecasc = cv2.CascadeClassifier(self.config.pre_trained_face_detector)\n",
    "        image = cv2.imread(self.filename)\n",
    "        gray = cv2.cvtColor(image, cv2.COLOR_BGR2GRAY)\n",
    "        #faces = facecasc.detectMultiScale(gray, scaleFactor=1.3, minNeighbors=10)\n",
    "        faces = facecasc.detectMultiScale(image, scaleFactor=1.2, minNeighbors=6)\n",
    "        print(\"No of faces : \",len(faces))\n",
    "        i =1\n",
    "        for (x, y, w, h) in faces:\n",
    "            cv2.rectangle(image, (x, y), (x+w, y+h), (0, 255, 0), 1)\n",
    "            # If the input of trained model has one chanels\n",
    "            roi_gray = gray[y:y + h, x:x + w] \n",
    "            # If the input of trained model has three chanels         \n",
    "            #roi_color = image[y:y+h, x:x+w]               \n",
    "            # Croping \n",
    "            cropped_img = np.expand_dims(np.expand_dims(cv2.resize(roi_gray, (48, 48)), -1), 0)            \n",
    "            cropped_img = ((cropped_img/255.) - 0.5)*2           \n",
    "            \n",
    "            prediction = model.predict(cropped_img)\n",
    "            maxindex = int(np.argmax(prediction))                              \n",
    "            print(\"person \",i,\" : \",emotion_dict[maxindex])           \n",
    "            cv2.putText(image, emotion_dict[maxindex], (x+10, y-20), cv2.FONT_HERSHEY_SIMPLEX, 0.7, (255, 255, 255), 2)\n",
    "            \n",
    "            cv2.imshow(\"Face Detector\", image)\n",
    "            k=cv2.waitKey(2000)\n",
    "        cv2.destroyAllWindows()\n",
    "        \n",
    "        file_name = os.path.basename(self.filename )\n",
    "        dir_name = os.path.dirname(self.filename) \n",
    "        cv2.imwrite(os.path.join(dir_name, 'pred_'+file_name), image)\n",
    "\n",
    "        image = cv2.imread(os.path.join(dir_name, 'pred_'+file_name))\n",
    "        image = cv2.cvtColor(image, cv2.COLOR_BGR2RGB)\n",
    "        plt.imshow(image)\n",
    "        \n",
    "\n",
    "        return plt.show()"
   ]
  },
  {
   "cell_type": "code",
   "execution_count": 10,
   "metadata": {},
   "outputs": [],
   "source": [
    "class Prediction:\n",
    "    def __init__(self, filename: Path, config: PredictionConfig):\n",
    "        self.config = config\n",
    "        self.filename = filename\n",
    "  \n",
    "\n",
    "    def predict(self):\n",
    "        emotion_dict = {0: \"Neutral\", 1: \"Disgusted\", 2: \"Fearful\", 3: \"Happy\", 4: \"Sad\", 5: \"Surprised\", 6: \"Neutral\"}\n",
    "\n",
    "        model = load_model(h5_path=self.config.path_of_model, json_path= self.config.path_of_model_json)              \n",
    "        \n",
    "        facecasc = cv2.CascadeClassifier(self.config.pre_trained_face_detector)\n",
    "        image = cv2.imread(self.filename)\n",
    "        gray = cv2.cvtColor(image, cv2.COLOR_BGR2GRAY)\n",
    "        #faces = facecasc.detectMultiScale(gray, scaleFactor=1.3, minNeighbors=10)\n",
    "        faces = facecasc.detectMultiScale(image, scaleFactor=1.2, minNeighbors=6)\n",
    "        print(\"No of faces : \",len(faces))\n",
    "        predict ={}\n",
    "        i =1\n",
    "        for (x, y, w, h) in faces:\n",
    "            cv2.rectangle(image, (x, y), (x+w, y+h), (0, 255, 0), 1)\n",
    "            # If the input of trained model has one chanels\n",
    "            roi_gray = gray[y:y + h, x:x + w] \n",
    "            # If the input of trained model has three chanels         \n",
    "            #roi_color = image[y:y+h, x:x+w]               \n",
    "            # Croping \n",
    "            cropped_img = np.expand_dims(np.expand_dims(cv2.resize(roi_gray, (48, 48)), -1), 0)            \n",
    "            cropped_img = ((cropped_img/255.) - 0.5)*2           \n",
    "            \n",
    "            prediction = model.predict(cropped_img)\n",
    "            maxindex = int(np.argmax(prediction))  \n",
    "                                        \n",
    "            print(\"person \",i,\" : \",emotion_dict[maxindex]) \n",
    "            predict[\"person \"+str(i)] = emotion_dict[maxindex]\n",
    "                           \n",
    "            cv2.putText(image, emotion_dict[maxindex], (x+10, y-20), cv2.FONT_HERSHEY_SIMPLEX, 0.7, (255, 255, 255), 2)\n",
    "            i+=1 \n",
    "\n",
    "        file_name = os.path.basename(self.filename )\n",
    "        dir_name = os.path.dirname(self.filename) \n",
    "        cv2.imwrite(os.path.join(dir_name, 'pred_'+file_name), image) \n",
    "\n",
    "        return predict"
   ]
  },
  {
   "cell_type": "code",
   "execution_count": 11,
   "metadata": {},
   "outputs": [
    {
     "name": "stdout",
     "output_type": "stream",
     "text": [
      "No of faces :  3\n",
      "1/1 [==============================] - 0s 292ms/step\n",
      "1/1 [==============================] - 0s 28ms/step\n",
      "1/1 [==============================] - 0s 29ms/step\n"
     ]
    }
   ],
   "source": [
    "try:\n",
    "    config = configurationManeger()\n",
    "    pred_config = config.get_prediction_config()\n",
    "    prediction = Prediction('images/img2.jpg', pred_config)\n",
    "    predict = prediction.predict()\n",
    "    \n",
    "except Exception as e:\n",
    "    raise CustomException(e, sys)"
   ]
  },
  {
   "cell_type": "markdown",
   "metadata": {},
   "source": []
  },
  {
   "cell_type": "markdown",
   "metadata": {},
   "source": []
  }
 ],
 "metadata": {
  "kernelspec": {
   "display_name": "Python 3 (ipykernel)",
   "language": "python",
   "name": "python3"
  },
  "language_info": {
   "codemirror_mode": {
    "name": "ipython",
    "version": 3
   },
   "file_extension": ".py",
   "mimetype": "text/x-python",
   "name": "python",
   "nbconvert_exporter": "python",
   "pygments_lexer": "ipython3",
   "version": "3.6.9"
  }
 },
 "nbformat": 4,
 "nbformat_minor": 4
}
