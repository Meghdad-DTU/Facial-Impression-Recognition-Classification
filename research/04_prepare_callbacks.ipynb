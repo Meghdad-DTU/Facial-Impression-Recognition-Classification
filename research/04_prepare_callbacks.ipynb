{
 "cells": [
  {
   "cell_type": "code",
   "execution_count": 1,
   "metadata": {},
   "outputs": [],
   "source": [
    "import os"
   ]
  },
  {
   "cell_type": "code",
   "execution_count": 2,
   "metadata": {},
   "outputs": [
    {
     "data": {
      "text/plain": [
       "'/home/paladin/Downloads/Facial_Impression_Recognition_Calassification'"
      ]
     },
     "execution_count": 2,
     "metadata": {},
     "output_type": "execute_result"
    }
   ],
   "source": [
    "os.chdir('../')\n",
    "%pwd"
   ]
  },
  {
   "cell_type": "code",
   "execution_count": 3,
   "metadata": {},
   "outputs": [],
   "source": [
    "from dataclasses import dataclass\n",
    "from pathlib import Path\n",
    "\n",
    "@dataclass(frozen=True)\n",
    "class PrepareCallbacksConfig:\n",
    "    root_dir: Path\n",
    "    tensorboard_root_log_dir: Path\n",
    "    ckeckpoint_model_filepath: Path\n",
    "    patience: int"
   ]
  },
  {
   "cell_type": "code",
   "execution_count": null,
   "metadata": {},
   "outputs": [],
   "source": [
    "from cnnClassifier.constants import *\n",
    "from cnnClassifier.utils import read_yaml, create_directories"
   ]
  },
  {
   "cell_type": "code",
   "execution_count": 5,
   "metadata": {},
   "outputs": [],
   "source": [
    "\n",
    "class configurationManeger:\n",
    "    def __init__(self, \n",
    "                 config_filepath = CONFIG_FILE_PATH,\n",
    "                 secret_filepath = SECRET_FILE_PATH,                 \n",
    "                 params_filepath = PARAMS_FILE_PATH):\n",
    "        \n",
    "        self.config = read_yaml(config_filepath) \n",
    "        self.secret = read_yaml(secret_filepath)        \n",
    "        self.params = read_yaml(params_filepath)\n",
    "\n",
    "        create_directories([self.config.artifacts_root])   \n",
    "    \n",
    "    def get_prepare_callbacks_config(self) -> PrepareCallbacksConfig:\n",
    "        config = self.config.prepare_callbacks\n",
    "        model_ckpt_dir = os.path.dirname(config.ckeckpoint_model_filepath)\n",
    "\n",
    "        create_directories([config.tensorboard_root_log_dir, model_ckpt_dir ])\n",
    "\n",
    "        prepare_callbacks_config = PrepareCallbacksConfig(\n",
    "           root_dir= config.root_dir,\n",
    "           tensorboard_root_log_dir= config.tensorboard_root_log_dir,\n",
    "           ckeckpoint_model_filepath=  config.ckeckpoint_model_filepath,\n",
    "           patience = self.params.PATIENCE\n",
    "\n",
    "        )\n",
    "\n",
    "        return prepare_callbacks_config \n"
   ]
  },
  {
   "cell_type": "code",
   "execution_count": 6,
   "metadata": {},
   "outputs": [],
   "source": [
    "import sys\n",
    "from cnnClassifier.exception import CustomException\n",
    "import keras\n",
    "import time"
   ]
  },
  {
   "cell_type": "code",
   "execution_count": 9,
   "metadata": {},
   "outputs": [],
   "source": [
    "class PrepareCallbacks:\n",
    "    def __init__(self, config: PrepareCallbacksConfig):\n",
    "        self.config = config\n",
    "\n",
    "    #Enable visualizations for TensorBoard.\n",
    "    @property\n",
    "    def _create_tb_callbacks(self): \n",
    "        timestamp = time.strftime(\"%Y-%m-%d-%H-%M-%S\")\n",
    "        tb_running_log_dir = os.path.join(\n",
    "            self.config.tensorboard_root_log_dir,\n",
    "            f\"tb_logs_at_{timestamp}\"\n",
    "            )   \n",
    "        return keras.callbacks.TensorBoard(log_dir=tb_running_log_dir)\n",
    "        \n",
    "    #ModelCheckpoint callback is used in conjunction with training using model. fit() to save a model or weights (in a checkpoint file) //\n",
    "    # at some interval, so the model or weights can be loaded later to continue the training from the state saved.    \n",
    "    @property\n",
    "    def _create_ckpt_callbacks(self):\n",
    "        return keras.callbacks.ModelCheckpoint(\n",
    "                filepath = self.config.ckeckpoint_model_filepath,\n",
    "                save_best_only = True)\n",
    "    \n",
    "    @property\n",
    "    def _create_es_callbacks(self):\n",
    "        return keras.callbacks.EarlyStopping(\n",
    "                monitor = 'val_loss',\n",
    "                patience = self.config.patience)\n",
    "\n",
    "\n",
    "    def get_tb_ckpt_es_callbacks(self):\n",
    "        return [self._create_tb_callbacks, self._create_ckpt_callbacks, self._create_es_callbacks]"
   ]
  },
  {
   "cell_type": "code",
   "execution_count": 10,
   "metadata": {},
   "outputs": [],
   "source": [
    "try:\n",
    "    config = configurationManeger()\n",
    "    prepare_callbacks_config = config.get_prepare_callbacks_config()\n",
    "    prepare_callbacks = PrepareCallbacks(config=prepare_callbacks_config)\n",
    "    callback_list = prepare_callbacks.get_tb_ckpt_es_callbacks()\n",
    "except Exception as e:\n",
    "    raise CustomException(e, sys)\n"
   ]
  }
 ],
 "metadata": {
  "kernelspec": {
   "display_name": "venv",
   "language": "python",
   "name": "python3"
  },
  "language_info": {
   "codemirror_mode": {
    "name": "ipython",
    "version": 3
   },
   "file_extension": ".py",
   "mimetype": "text/x-python",
   "name": "python",
   "nbconvert_exporter": "python",
   "pygments_lexer": "ipython3",
   "version": "3.8.6"
  },
  "orig_nbformat": 4
 },
 "nbformat": 4,
 "nbformat_minor": 2
}
