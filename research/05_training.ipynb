{
 "cells": [
  {
   "cell_type": "code",
   "execution_count": 1,
   "metadata": {},
   "outputs": [],
   "source": [
    "import os"
   ]
  },
  {
   "cell_type": "code",
   "execution_count": 2,
   "metadata": {},
   "outputs": [
    {
     "data": {
      "text/plain": [
       "'/home/paladin/Downloads/Facial_Impression_Recognition_Calassification'"
      ]
     },
     "execution_count": 2,
     "metadata": {},
     "output_type": "execute_result"
    }
   ],
   "source": [
    "os.chdir('../')\n",
    "%pwd"
   ]
  },
  {
   "cell_type": "code",
   "execution_count": 3,
   "metadata": {},
   "outputs": [],
   "source": [
    "from dataclasses import dataclass\n",
    "from pathlib import Path\n",
    "\n",
    "@dataclass(frozen=True)\n",
    "class TrainingConfig:\n",
    "    root_dir: Path\n",
    "    trained_model_path: Path\n",
    "    updated_base_model_path: Path\n",
    "    training_data: Path\n",
    "    validation_data: Path\n",
    "    params_epochs: int\n",
    "    params_batch_size: int\n",
    "    params_is_augmentation: bool\n",
    "    params_imgage_size: list\n",
    "\n",
    "@dataclass(frozen=True)\n",
    "class PrepareCallbacksConfig:\n",
    "    root_dir: Path\n",
    "    tensorboard_root_log_dir: Path\n",
    "    ckeckpoint_model_filepath: Path"
   ]
  },
  {
   "cell_type": "code",
   "execution_count": 4,
   "metadata": {},
   "outputs": [
    {
     "name": "stderr",
     "output_type": "stream",
     "text": [
      "2023-07-27 18:22:36.053802: I tensorflow/tsl/cuda/cudart_stub.cc:28] Could not find cuda drivers on your machine, GPU will not be used.\n",
      "2023-07-27 18:22:36.115329: I tensorflow/tsl/cuda/cudart_stub.cc:28] Could not find cuda drivers on your machine, GPU will not be used.\n",
      "2023-07-27 18:22:36.116102: I tensorflow/core/platform/cpu_feature_guard.cc:182] This TensorFlow binary is optimized to use available CPU instructions in performance-critical operations.\n",
      "To enable the following instructions: AVX2 FMA, in other operations, rebuild TensorFlow with the appropriate compiler flags.\n",
      "2023-07-27 18:22:37.179689: W tensorflow/compiler/tf2tensorrt/utils/py_utils.cc:38] TF-TRT Warning: Could not find TensorRT\n"
     ]
    }
   ],
   "source": [
    "from cnnClassifier.constants import *\n",
    "from cnnClassifier.utils import read_yaml, create_directories"
   ]
  },
  {
   "cell_type": "code",
   "execution_count": 5,
   "metadata": {},
   "outputs": [],
   "source": [
    "class configurationManeger:\n",
    "    def __init__(self, \n",
    "                 config_filepath = CONFIG_FILE_PATH,\n",
    "                 secret_filepath = SECRET_FILE_PATH,                 \n",
    "                 params_filepath = PARAMS_FILE_PATH):\n",
    "        \n",
    "        self.config = read_yaml(config_filepath) \n",
    "        self.secret = read_yaml(secret_filepath)        \n",
    "        self.params = read_yaml(params_filepath)\n",
    "\n",
    "        create_directories([self.config.artifacts_root])   \n",
    "    \n",
    "    def get_prepare_callbacks_config(self) -> PrepareCallbacksConfig:\n",
    "        config = self.config.prepare_callbacks\n",
    "        model_ckpt_dir = os.path.dirname(config.ckeckpoint_model_filepath)\n",
    "\n",
    "        create_directories([config.tensorboard_root_log_dir, model_ckpt_dir ])\n",
    "\n",
    "        prepare_callbacks_config = PrepareCallbacksConfig(\n",
    "           root_dir= config.root_dir,\n",
    "           tensorboard_root_log_dir= config.tensorboard_root_log_dir,\n",
    "           ckeckpoint_model_filepath=  config.ckeckpoint_model_filepath\n",
    "        )\n",
    "\n",
    "        return prepare_callbacks_config \n",
    "    \n",
    "    def get_training_config(self) -> TrainingConfig:\n",
    "        config= self.config.training\n",
    "        training_data_dir = os.path.dirname(self.config.data_transformation.local_train_angry_dir)\n",
    "        validation_data_dir = os.path.dirname(self.config.data_transformation.local_val_angry_dir)\n",
    "        \n",
    "        create_directories([config.root_dir])\n",
    "\n",
    "        training_config = TrainingConfig(\n",
    "        root_dir= config.root_dir,\n",
    "        trained_model_path= config.trained_model_path, \n",
    "        updated_base_model_path= self.config.prepare_base_model.updated_model_path, \n",
    "        training_data= training_data_dir,\n",
    "        validation_data= validation_data_dir, \n",
    "        params_epochs= self.params.EPOCHS, \n",
    "        params_batch_size= self.params.BATCH_SIZE, \n",
    "        params_is_augmentation= self.params.AUGMENTATION,\n",
    "        params_imgage_size= self.params.IMAGE_SIZE\n",
    "        )\n",
    "\n",
    "        return training_config"
   ]
  },
  {
   "cell_type": "code",
   "execution_count": 6,
   "metadata": {},
   "outputs": [],
   "source": [
    "from cnnClassifier.utils import load_object, save_object, model_loss\n",
    "import keras"
   ]
  },
  {
   "cell_type": "code",
   "execution_count": 7,
   "metadata": {},
   "outputs": [],
   "source": [
    "\n",
    "class Training:\n",
    "    def __init__(self, config: TrainingConfig):\n",
    "        self.config = config\n",
    "\n",
    "    def get_base_model(self):\n",
    "        self.model = load_object(path= self.config.updated_base_model_path, h5=True)\n",
    "\n",
    "    def train_valid_generator(self):\n",
    "\n",
    "        datagenerator_kwargs = dict(\n",
    "            rescale= 1./255\n",
    "            # if there was no validation set:\n",
    "            # validation_split = 0.20\n",
    "        )\n",
    "\n",
    "        dataflow_kwargs = dict(\n",
    "            target_size=self.config.params_imgage_size[:-1],\n",
    "            batch_size = self.config.params_batch_size,\n",
    "            interpolation= 'bilinear'\n",
    "        )\n",
    "        ## NOTE: Keras generator alway looks for subfolders (representing the classes). Images insight the subfolders are associated with a class.\n",
    "        if self.config.params_is_augmentation:\n",
    "            datagenerator = keras.preprocessing.image.ImageDataGenerator(\n",
    "                rotation_range=20,\n",
    "                horizontal_flip=True,\n",
    "                width_shift_range=0.2,\n",
    "                height_shift_range=0.2,\n",
    "                shear_range=0.2,\n",
    "                zoom_range=0.2,\n",
    "                **datagenerator_kwargs\n",
    "            )\n",
    "\n",
    "        else:\n",
    "            datagenerator = keras.preprocessing.image.ImageDataGenerator(\n",
    "                **datagenerator_kwargs\n",
    "            )\n",
    "        ## NOTE: subdet is added when we use validation_split, where directory for both training and validation is the same.\n",
    "        ## NOTE: shuffle= False for validation as we want to check the performance model using predict_generator \n",
    "        self.valid_generator = datagenerator.flow_from_directory(\n",
    "            directory= self.config.validation_data,\n",
    "            #subset= \"validation\",\n",
    "            shuffle= False,            \n",
    "            **dataflow_kwargs\n",
    "            )\n",
    "        \n",
    "        self.train_generator = datagenerator.flow_from_directory(\n",
    "            directory= self.config.training_data,\n",
    "            #subset= \"training\",\n",
    "            shuffle= True,           \n",
    "            **dataflow_kwargs\n",
    "            )\n",
    "        \n",
    "    def train(self, callback_list: list):\n",
    "        self.steps_per_epoch = self.train_generator.samples // self.train_generator.batch_size\n",
    "        self.validation_steps = self.valid_generator.samples // self.valid_generator.batch_size\n",
    "\n",
    "        history = self.model.fit(\n",
    "            self.train_generator,\n",
    "            validation_data = self.valid_generator,\n",
    "            epochs= self.config.params_epochs,\n",
    "            steps_per_epoch= self.steps_per_epoch,\n",
    "            validation_steps=self.validation_steps,\n",
    "            callbacks = callback_list\n",
    "            )\n",
    "        \n",
    "        model_loss(history)\n",
    "        filenames = self.valid_generator.filenames\n",
    "        nb_samples = len(filenames)\n",
    "        predict = self.model.predict_generator(self.valid_generator, steps = nb_samples)\n",
    "        print(predict)\n",
    "\n",
    "        save_object(path= self.config.trained_model_path, obj=self.model, h5=True)    \n",
    "        \n"
   ]
  },
  {
   "cell_type": "code",
   "execution_count": 8,
   "metadata": {},
   "outputs": [],
   "source": [
    "import sys\n",
    "from cnnClassifier.exception import CustomException\n",
    "from cnnClassifier.components.prepare_callbacks import PrepareCallbacks "
   ]
  },
  {
   "cell_type": "code",
   "execution_count": 9,
   "metadata": {},
   "outputs": [
    {
     "name": "stdout",
     "output_type": "stream",
     "text": [
      "Found 3589 images belonging to 7 classes.\n",
      "Found 28709 images belonging to 7 classes.\n",
      "112/112 [==============================] - ETA: 0s - loss: 1.8648 - accuracy: 0.2144"
     ]
    },
    {
     "name": "stderr",
     "output_type": "stream",
     "text": [
      "/home/paladin/Downloads/Facial_Impression_Recognition_Calassification/venv/lib/python3.8/site-packages/keras/src/engine/training.py:3000: UserWarning: You are saving your model as an HDF5 file via `model.save()`. This file format is considered legacy. We recommend using instead the native Keras format, e.g. `model.save('my_model.keras')`.\n",
      "  saving_api.save_model(\n"
     ]
    },
    {
     "name": "stdout",
     "output_type": "stream",
     "text": [
      "112/112 [==============================] - 320s 3s/step - loss: 1.8648 - accuracy: 0.2144 - val_loss: 1.8128 - val_accuracy: 0.2363\n"
     ]
    },
    {
     "data": {
      "image/png": "[encoded data removed]",
      "text/plain": [
       "<Figure size 800x400 with 1 Axes>"
      ]
     },
     "metadata": {},
     "output_type": "display_data"
    },
    {
     "name": "stderr",
     "output_type": "stream",
     "text": [
      "/tmp/ipykernel_23212/2098462863.py:69: UserWarning: `Model.predict_generator` is deprecated and will be removed in a future version. Please use `Model.predict`, which supports generators.\n",
      "  predict = self.model.predict_generator(self.valid_generator, steps = nb_samples)\n"
     ]
    },
    {
     "name": "stdout",
     "output_type": "stream",
     "text": [
      "[[0.16557409 0.01135406 0.18413661 ... 0.26437005 0.07315167 0.15244402]\n",
      " [0.08139113 0.01346778 0.14317548 ... 0.25152963 0.13013148 0.12112436]\n",
      " [0.20518455 0.00811287 0.16577603 ... 0.19259058 0.12843427 0.09691856]\n",
      " ...\n",
      " [0.10110669 0.02261812 0.23283367 ... 0.1189701  0.12399362 0.17315586]\n",
      " [0.07442158 0.03363118 0.1651511  ... 0.1467446  0.07243331 0.11343342]\n",
      " [0.20161714 0.00672147 0.22872661 ... 0.12264541 0.12481391 0.06903777]]\n"
     ]
    },
    {
     "name": "stderr",
     "output_type": "stream",
     "text": [
      "/home/paladin/Downloads/Facial_Impression_Recognition_Calassification/src/cnnClassifier/utils.py:126: UserWarning: You are saving your model as an HDF5 file via `model.save()`. This file format is considered legacy. We recommend using instead the native Keras format, e.g. `model.save('my_model.keras')`.\n",
      "  save_model(obj, path)\n"
     ]
    }
   ],
   "source": [
    "try:\n",
    "    config = configurationManeger()\n",
    "    prepare_callbacks_config = config.get_prepare_callbacks_config()\n",
    "    prepare_callbacks = PrepareCallbacks(config=prepare_callbacks_config)\n",
    "    callback_list = prepare_callbacks.get_tb_ckpt_callbacks()\n",
    "\n",
    "    training_config = config.get_training_config()\n",
    "    training = Training(config= training_config)\n",
    "    training.get_base_model()\n",
    "    training.train_valid_generator()\n",
    "    training.train(callback_list= callback_list)\n",
    "\n",
    "except Exception as e:\n",
    "    raise CustomException(e, sys)"
   ]
  },
  {
   "cell_type": "code",
   "execution_count": 10,
   "metadata": {},
   "outputs": [],
   "source": [
    "import numpy as np\n",
    "import matplotlib.pyplot as plt\n",
    "from sklearn.metrics import precision_score, recall_score, accuracy_score, classification_report, confusion_matrix, precision_recall_fscore_support\n",
    "\n",
    "\n",
    "\n",
    "def evaluation_metrics(y_test, y_pred):\n",
    "    precision = np.min(precision_score(y_test, y_pred, average=None))\n",
    "    recall = np.min(recall_score(y_test, y_pred, average=None))\n",
    "    accuracy = accuracy_score(y_test, y_pred)\n",
    "    return precision, recall, accuracy\n",
    "    \n",
    "def pandas_classification_report(y_true, y_pred, classes):\n",
    "    \n",
    "    \"\"\"\n",
    "    This function returns scikit learn output metrics.classification_report \n",
    "    into CSV/tab-delimited format\n",
    "    :param y_true: the actual value of y\n",
    "    :param y_pred: the predicted valuye of y\n",
    "    :param classes: list of label classes to be predicted\n",
    "    \"\"\"\n",
    "    metrics_summary = precision_recall_fscore_support(y_true=y_true, y_pred=y_pred)    \n",
    "    avg = list(precision_recall_fscore_support(y_true=y_true, y_pred=y_pred, average='weighted'))\n",
    "    metrics_sum_index = ['precision', 'recall', 'f1-score', 'support']\n",
    "    class_report_df = pd.DataFrame(list(metrics_summary),index=metrics_sum_index)\n",
    "\n",
    "    support = class_report_df.loc['support']\n",
    "    total = support.sum() \n",
    "    avg[-1] = total\n",
    "\n",
    "    class_report_df['avg / total'] = avg              \n",
    "    df = class_report_df.T\n",
    "    df.index = classes + ['avg / total']\n",
    "    return df\n",
    "\n",
    "def plot_confusion_matrix(y_true, y_pred, classes,\n",
    "                            normalize=False,\n",
    "                            title=None,\n",
    "                            cmap=plt.cm.Blues):\n",
    "    \"\"\"\n",
    "    This function prints and plots the confusion matrix.\n",
    "    Normalization can be applied by setting `normalize=True`.\n",
    "    Borrowed from the scikit-learn library documentation\n",
    "    :param y_true: the actual value of y\n",
    "    :param y_pred: the predicted valuye of y\n",
    "    :param classes: list of label classes to be predicted\n",
    "    :param normalize: normalize the data\n",
    "    :param title: title of the plot for confusion matrix\n",
    "    :param cmap: color of plot        \n",
    "    \"\"\"\n",
    "    if not title:\n",
    "        if normalize:\n",
    "            title = 'Normalized confusion matrix'\n",
    "        else:\n",
    "            title = 'Confusion matrix, without normalization'\n",
    "\n",
    "    # Compute confusion matrix\n",
    "    cm = confusion_matrix(y_true, y_pred)\n",
    "    # Only use the labels that appear in the data\n",
    "    #classes = classes[unique_labels(y_true, y_pred)]\n",
    "    if normalize:\n",
    "        cm = cm.astype('float') / cm.sum(axis=1)[:, np.newaxis]\n",
    "        print(\"Normalized confusion matrix\")\n",
    "            \n",
    "    fig, ax = plt.subplots()\n",
    "    im = ax.imshow(cm, interpolation='nearest', cmap=cmap)\n",
    "    ax.figure.colorbar(im, ax=ax)\n",
    "    # We want to show all ticks...\n",
    "    ax.set(xticks=np.arange(cm.shape[1]),\n",
    "            yticks=np.arange(cm.shape[0]),\n",
    "            # ... and label them with the respective list entries\n",
    "            xticklabels=classes, yticklabels=classes,\n",
    "            title=title,\n",
    "            ylabel='True label',\n",
    "            xlabel='Predicted label')\n",
    "\n",
    "    # Rotate the tick labels and set their alignment.\n",
    "    plt.setp(ax.get_xticklabels(), rotation=45, ha=\"right\",\n",
    "                rotation_mode=\"anchor\")\n",
    "\n",
    "    # Loop over data dimensions and create text annotations.\n",
    "    fmt = '.2f' if normalize else 'd'\n",
    "    thresh = cm.max() / 2.\n",
    "    for i in range(cm.shape[0]):\n",
    "        for j in range(cm.shape[1]):\n",
    "            ax.text(j, i, format(cm[i, j], fmt),\n",
    "                    ha=\"center\", va=\"center\",\n",
    "                    color=\"white\" if cm[i, j] > thresh else \"black\")\n",
    "    fig.tight_layout()\n",
    "    return plt, fig, ax "
   ]
  },
  {
   "cell_type": "code",
   "execution_count": 11,
   "metadata": {},
   "outputs": [
    {
     "ename": "NameError",
     "evalue": "name 'history' is not defined",
     "output_type": "error",
     "traceback": [
      "\u001b[0;31m---------------------------------------------------------------------------\u001b[0m",
      "\u001b[0;31mNameError\u001b[0m                                 Traceback (most recent call last)",
      "Cell \u001b[0;32mIn[11], line 1\u001b[0m\n\u001b[0;32m----> 1\u001b[0m model_loss(history)\n",
      "\u001b[0;31mNameError\u001b[0m: name 'history' is not defined"
     ]
    }
   ],
   "source": [
    "model_loss(history)"
   ]
  }
 ],
 "metadata": {
  "kernelspec": {
   "display_name": "venv",
   "language": "python",
   "name": "python3"
  },
  "language_info": {
   "codemirror_mode": {
    "name": "ipython",
    "version": 3
   },
   "file_extension": ".py",
   "mimetype": "text/x-python",
   "name": "python",
   "nbconvert_exporter": "python",
   "pygments_lexer": "ipython3",
   "version": "3.8.6"
  },
  "orig_nbformat": 4
 },
 "nbformat": 4,
 "nbformat_minor": 2
}
