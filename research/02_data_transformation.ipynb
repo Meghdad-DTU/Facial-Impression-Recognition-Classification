{
 "cells": [
  {
   "cell_type": "code",
   "execution_count": 1,
   "metadata": {},
   "outputs": [],
   "source": [
    "import os"
   ]
  },
  {
   "cell_type": "code",
   "execution_count": 2,
   "metadata": {},
   "outputs": [
    {
     "data": {
      "text/plain": [
       "'/home/paladin/Downloads/Facial_Impression_Recognition_Calassification'"
      ]
     },
     "execution_count": 2,
     "metadata": {},
     "output_type": "execute_result"
    }
   ],
   "source": [
    "os.chdir('../')\n",
    "%pwd"
   ]
  },
  {
   "cell_type": "code",
   "execution_count": 3,
   "metadata": {},
   "outputs": [],
   "source": [
    "from dataclasses import dataclass\n",
    "from pathlib import Path\n",
    "\n",
    "@dataclass(frozen=True)\n",
    "class DataIngestionConfig:\n",
    "    root_dir: Path\n",
    "    s3_bucket: str\n",
    "    s3_key: str\n",
    "    s3_secret_key: str\n",
    "    object_key: Path\n",
    "    local_data_file: Path\n",
    "    local_train_file: Path\n",
    "    local_val_file: Path\n",
    "    local_test_file:Path\n",
    "\n",
    "\n",
    "\n",
    "@dataclass(frozen=True)\n",
    "class DataTransformationConfig:\n",
    "    root_dir: Path\n",
    "    local_train_file: Path\n",
    "    local_val_file: Path\n",
    "    local_test_file: Path\n",
    "    local_preprocessor_file: Path"
   ]
  },
  {
   "cell_type": "code",
   "execution_count": 5,
   "metadata": {},
   "outputs": [],
   "source": [
    "import os\n",
    "import sys\n",
    "import pandas as pd\n",
    "from cnnClassifier.exception import CustomException\n",
    "from cnnClassifier.logger import logging\n",
    "\n",
    "from cnnClassifier.constants import *\n",
    "from cnnClassifier.utils import pixel_to_image, save_object, create_directories, read_yaml"
   ]
  },
  {
   "cell_type": "code",
   "execution_count": 6,
   "metadata": {},
   "outputs": [],
   "source": [
    "class configurationManeger:\n",
    "    def __init__(self, \n",
    "                 config_filepath = CONFIG_FILE_PATH,\n",
    "                 secret_filepath = SECRET_FILE_PATH,                 \n",
    "                 params_filepath = PARAMS_FILE_PATH):\n",
    "        \n",
    "        self.config = read_yaml(config_filepath) \n",
    "        self.secret = read_yaml(secret_filepath)        \n",
    "        self.params = read_yaml(params_filepath)\n",
    "\n",
    "        create_directories([self.config.artifacts_root])\n",
    "\n",
    "    def get_data_ingestion_config(self) -> DataIngestionConfig:\n",
    "        config = self.config.data_ingestion   \n",
    "        secret = self.secret.aws_credential\n",
    "\n",
    "        create_directories([config.root_dir])\n",
    "        data_ingestion_config = DataIngestionConfig(\n",
    "            root_dir = config.root_dir,\n",
    "            s3_bucket = secret.s3_bucket,\n",
    "            s3_key = secret.s3_key,\n",
    "            s3_secret_key = secret.s3_secret_key,\n",
    "            object_key = secret.object_key,\n",
    "            local_data_file = config.local_data_file,\n",
    "            local_train_file = config.local_train_file,\n",
    "            local_val_file = config.local_val_file,\n",
    "            local_test_file = config.local_test_file\n",
    "\n",
    "        )\n",
    "\n",
    "        return data_ingestion_config\n",
    "    \n",
    "    def get_data_transformation_config(self) -> DataTransformationConfig:\n",
    "        config_trs = self.config.data_transformation\n",
    "        config_ing = self.config.data_ingestion         \n",
    "\n",
    "        create_directories([config_trs.root_dir])\n",
    "        data_trnsformation_config = DataTransformationConfig(\n",
    "            root_dir = config_trs.root_dir,\n",
    "            local_train_file = config_ing.local_train_file,\n",
    "            local_val_file = config_ing.local_val_file,\n",
    "            local_test_file = config_ing.local_test_file,\n",
    "            local_preprocessor_file = config_trs.local_preprocessor_file\n",
    "\n",
    "        )\n",
    "\n",
    "        return data_trnsformation_config\n"
   ]
  },
  {
   "cell_type": "code",
   "execution_count": 7,
   "metadata": {},
   "outputs": [],
   "source": [
    "import pandas as pd\n",
    "from sklearn.preprocessing import FunctionTransformer\n",
    "\n",
    "from keras.utils import to_categorical\n",
    "from sklearn.pipeline import Pipeline"
   ]
  },
  {
   "cell_type": "code",
   "execution_count": 8,
   "metadata": {},
   "outputs": [],
   "source": [
    "\n",
    "from box import ConfigBox\n",
    "\n",
    "class DataTransformation:\n",
    "    def __init__(self, config: DataTransformationConfig):\n",
    "        self.config = config\n",
    "\n",
    "    def get_data_transformer_object(self):\n",
    "        try:            \n",
    "            face_recognition_pipeline = Pipeline(\n",
    "                steps=[\n",
    "                    ('pixel_to_image', \n",
    "                    FunctionTransformer(pixel_to_image, kw_args={'img_height':48, 'img_width':48}))\n",
    "                ]\n",
    "            )\n",
    "            return face_recognition_pipeline            \n",
    "        \n",
    "        except Exception as e:\n",
    "            raise CustomException(e, sys)\n",
    "    \n",
    "    \n",
    "    def initiate_data_transformation(self):\n",
    "        if not os.path.exists(self.config.local_train_file):\n",
    "            logging.info(f\"WARNING: {self.config.local_train_file} does not exist!\")\n",
    "        \n",
    "        elif not os.path.exists(self.config.local_val_file):\n",
    "            logging.info(f\"WARNING: {self.config.local_val_file} does not exist!\")   \n",
    "\n",
    "        elif not os.path.exists(self.config.local_test_file):\n",
    "            logging.info(f\"WARNING: {self.config.local_test_file} does not exist!\")              \n",
    "        \n",
    "        else:  \n",
    "            \n",
    "            train_df = pd.read_csv(self.config.local_train_file)\n",
    "            val_df = pd.read_csv(self.config.local_val_file)\n",
    "            test_df = pd.read_csv(self.config.local_test_file)\n",
    "            logging.info('Read train, validation and test data completed')\n",
    "\n",
    "            logging.info(\"Obtaining preprocessing object\")\n",
    "            preprocessing_obj=self.get_data_transformer_object() \n",
    "            pixel_column = 'pixels'\n",
    "            target_column_name = 'emotion'             \n",
    "\n",
    "            logging.info(f\"Applying preprocessing object on both train and test dataframes\")\n",
    "            input_train_arr = preprocessing_obj.fit_transform(train_df[pixel_column])            \n",
    "            input_val_arr = preprocessing_obj.fit_transform(val_df[pixel_column])           \n",
    "            input_test_arr = preprocessing_obj.transform(test_df[pixel_column]) \n",
    "\n",
    "            logging.info(f\"Changing target variable format to match with keras\")\n",
    "            target_train_arr = to_categorical(train_df[target_column_name], 7)   \n",
    "            target_val_arr = to_categorical(val_df[target_column_name], 7)  \n",
    "            target_test_arr = to_categorical(test_df[target_column_name], 7) \n",
    "            \n",
    "            logging.info('Saved preprocessing object')\n",
    "            save_object(path=self.config.local_preprocessor_file, obj=preprocessing_obj)\n",
    "\n",
    "            data = {'X_train':input_train_arr, \n",
    "                    'y_train':target_train_arr,\n",
    "                    'X_val':input_val_arr,\n",
    "                    'y_val': target_val_arr,\n",
    "                    'X_test':input_test_arr,\n",
    "                    'y_test':target_test_arr\n",
    "                    }\n",
    "\n",
    "            return ConfigBox(data)"
   ]
  },
  {
   "cell_type": "code",
   "execution_count": 9,
   "metadata": {},
   "outputs": [],
   "source": [
    "try:\n",
    "    config = configurationManeger()\n",
    "    data_transformation_config = config.get_data_transformation_config()\n",
    "    data_transformation = DataTransformation(config=data_transformation_config)\n",
    "    data = data_transformation.initiate_data_transformation()\n",
    "\n",
    "except Exception as e:\n",
    "    raise CustomException(e, sys)"
   ]
  }
 ],
 "metadata": {
  "kernelspec": {
   "display_name": "venv",
   "language": "python",
   "name": "python3"
  },
  "language_info": {
   "codemirror_mode": {
    "name": "ipython",
    "version": 3
   },
   "file_extension": ".py",
   "mimetype": "text/x-python",
   "name": "python",
   "nbconvert_exporter": "python",
   "pygments_lexer": "ipython3",
   "version": "3.8.6"
  },
  "orig_nbformat": 4
 },
 "nbformat": 4,
 "nbformat_minor": 2
}
