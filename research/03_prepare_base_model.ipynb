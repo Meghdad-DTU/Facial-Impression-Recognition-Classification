{
 "cells": [
  {
   "cell_type": "code",
   "execution_count": 1,
   "metadata": {},
   "outputs": [],
   "source": [
    "import os"
   ]
  },
  {
   "cell_type": "code",
   "execution_count": 2,
   "metadata": {},
   "outputs": [
    {
     "data": {
      "text/plain": [
       "'/home/paladin/Downloads/Facial_Impression_Recognition_Calassification'"
      ]
     },
     "execution_count": 2,
     "metadata": {},
     "output_type": "execute_result"
    }
   ],
   "source": [
    "os.chdir('../')\n",
    "%pwd"
   ]
  },
  {
   "cell_type": "code",
   "execution_count": 3,
   "metadata": {},
   "outputs": [],
   "source": [
    "from dataclasses import dataclass\n",
    "from pathlib import Path\n",
    "\n",
    "\n",
    "@dataclass(frozen=True)\n",
    "class PrepareBaseModelConfig:\n",
    "    root_dir: Path\n",
    "    model_path: Path\n",
    "    updated_model_path: Path\n",
    "    params_image_size: list\n",
    "    params_learning_rate: float\n",
    "    params_include_top: bool\n",
    "    params_weights: str\n",
    "    params_classes: int"
   ]
  },
  {
   "cell_type": "code",
   "execution_count": 4,
   "metadata": {},
   "outputs": [
    {
     "name": "stderr",
     "output_type": "stream",
     "text": [
      "2023-07-31 11:35:47.191197: I tensorflow/tsl/cuda/cudart_stub.cc:28] Could not find cuda drivers on your machine, GPU will not be used.\n",
      "2023-07-31 11:35:47.248768: I tensorflow/tsl/cuda/cudart_stub.cc:28] Could not find cuda drivers on your machine, GPU will not be used.\n",
      "2023-07-31 11:35:47.250066: I tensorflow/core/platform/cpu_feature_guard.cc:182] This TensorFlow binary is optimized to use available CPU instructions in performance-critical operations.\n",
      "To enable the following instructions: AVX2 FMA, in other operations, rebuild TensorFlow with the appropriate compiler flags.\n",
      "2023-07-31 11:35:48.389678: W tensorflow/compiler/tf2tensorrt/utils/py_utils.cc:38] TF-TRT Warning: Could not find TensorRT\n"
     ]
    }
   ],
   "source": [
    "from cnnClassifier.constants import *\n",
    "from cnnClassifier.utils import read_yaml, create_directories, save_object"
   ]
  },
  {
   "cell_type": "code",
   "execution_count": 5,
   "metadata": {},
   "outputs": [],
   "source": [
    "class configurationManeger:\n",
    "    def __init__(self, \n",
    "                 config_filepath = CONFIG_FILE_PATH,\n",
    "                 secret_filepath = SECRET_FILE_PATH,                 \n",
    "                 params_filepath = PARAMS_FILE_PATH):\n",
    "        \n",
    "        self.config = read_yaml(config_filepath) \n",
    "        self.secret = read_yaml(secret_filepath)        \n",
    "        self.params = read_yaml(params_filepath)\n",
    "\n",
    "        create_directories([self.config.artifacts_root])\n",
    "\n",
    "    \n",
    "    def get_prepare_base_model_config(self) -> PrepareBaseModelConfig:\n",
    "        config = self.config.prepare_base_model\n",
    "        \n",
    "        create_directories([config.root_dir])\n",
    "\n",
    "        prepare_base_model_config = PrepareBaseModelConfig(\n",
    "            root_dir = config.root_dir,           \n",
    "            model_path = config.model_path,\n",
    "            updated_model_path = config.updated_model_path,\n",
    "            params_image_size = self.params.IMAGE_SIZE,\n",
    "            params_learning_rate = self.params.LEARNING_RATE,\n",
    "            params_include_top = self.params.INCLUDE_TOP,\n",
    "            params_weights = self.params.WEIGHTS,\n",
    "            params_classes = self.params.CLASSES\n",
    "\n",
    "        )\n",
    "\n",
    "        return prepare_base_model_config"
   ]
  },
  {
   "cell_type": "code",
   "execution_count": 6,
   "metadata": {},
   "outputs": [],
   "source": [
    "import sys\n",
    "from cnnClassifier.exception import CustomException\n",
    "import keras\n"
   ]
  },
  {
   "cell_type": "code",
   "execution_count": 7,
   "metadata": {},
   "outputs": [],
   "source": [
    "class PrepareBaseModel:\n",
    "    def __init__(self, config: PrepareBaseModelConfig):\n",
    "        self.config = config\n",
    "\n",
    "    # In case, vgg16 is about to used as the base model\n",
    "    def get_base_model(self):\n",
    "        self.model = keras.applications.vgg16.VGG16(\n",
    "            input_shape = self.config.params_image_size,\n",
    "            weights = self.config.params_weights,\n",
    "            include_top = self.config.params_include_top\n",
    "        )\n",
    "\n",
    "        save_object(path=self.config.model_path, obj= self.model, h5=True)\n",
    "\n",
    "    @staticmethod\n",
    "    def _prepare_full_model(base_model, classes, freeze_all, freeze_till, learning_rate, input_shape=None):\n",
    "        if base_model is not None:        \n",
    "            if freeze_all:\n",
    "                for layer in base_model.layers:\n",
    "                    base_model.trainable = False\n",
    "            elif (freeze_till is not None) and (freeze_till > 0):\n",
    "                for layer in base_model.layers[:-freeze_till]:\n",
    "                    base_model.trainable = False\n",
    "        \n",
    "            model=keras.models.Sequential()\n",
    "            model.add(base_model)\n",
    "            model.add(keras.layers.Dropout(0.5))\n",
    "            model.add(keras.layers.Flatten())\n",
    "            model.add(keras.layers.BatchNormalization())\n",
    "            model.add(keras.layers.Dense(32,kernel_initializer='he_uniform'))\n",
    "            model.add(keras.layers.BatchNormalization())\n",
    "            model.add(keras.layers.Activation('relu'))\n",
    "            model.add(keras.layers.Dropout(0.5))\n",
    "            model.add(keras.layers.Dense(32,kernel_initializer='he_uniform'))\n",
    "            model.add(keras.layers.BatchNormalization())\n",
    "            model.add(keras.layers.Activation('relu'))\n",
    "            model.add(keras.layers.Dropout(0.5))\n",
    "            model.add(keras.layers.Dense(32,kernel_initializer='he_uniform'))\n",
    "            model.add(keras.layers.BatchNormalization())\n",
    "            model.add(keras.layers.Activation('relu'))\n",
    "            model.add(keras.layers.Dense(units=classes, activation='softmax'))\n",
    "\n",
    "            '''\n",
    "            # without stacked model\n",
    "        \n",
    "            flatten_in = keras.layers.Flatten()(base_model.output)\n",
    "            prediction = keras.layers.Dense(\n",
    "                units=classes,\n",
    "                activation='softmax'\n",
    "            )(flatten_in)\n",
    "\n",
    "            full_model = keras.models.Model(\n",
    "                inputs=base_model.input,\n",
    "                outputs=prediction\n",
    "            )\n",
    "            '''\n",
    "        \n",
    "        else:\n",
    "            assert input_shape is not None, \" WARNING: Input shape mus be provided!\"\n",
    "            model = keras.models.Sequential()\n",
    "            model.add(keras.layers.Convolution2D(filters=16, kernel_size=(7, 7), padding='same', name='image_array', input_shape= input_shape))\n",
    "            model.add(keras.layers.BatchNormalization())\n",
    "            model.add(keras.layers.Convolution2D(filters=16, kernel_size=(7, 7), padding='same'))\n",
    "            model.add(keras.layers.BatchNormalization())\n",
    "            model.add(keras.layers.Activation('relu'))\n",
    "            model.add(keras.layers.AveragePooling2D(pool_size=(2, 2), padding='same'))\n",
    "            model.add(keras.layers.Dropout(.5))\n",
    "\n",
    "            model.add(keras.layers.Convolution2D(filters=32, kernel_size=(5, 5), padding='same'))\n",
    "            model.add(keras.layers.BatchNormalization())\n",
    "            model.add(keras.layers.Convolution2D(filters=32, kernel_size=(5, 5), padding='same'))\n",
    "            model.add(keras.layers.BatchNormalization())\n",
    "            model.add(keras.layers.Activation('relu'))\n",
    "            model.add(keras.layers.AveragePooling2D(pool_size=(2, 2), padding='same'))\n",
    "            model.add(keras.layers.Dropout(.5))\n",
    "\n",
    "            model.add(keras.layers.Convolution2D(filters=64, kernel_size=(3, 3), padding='same'))\n",
    "            model.add(keras.layers.BatchNormalization())\n",
    "            model.add(keras.layers.Convolution2D(filters=64, kernel_size=(3, 3), padding='same'))\n",
    "            model.add(keras.layers.BatchNormalization())\n",
    "            model.add(keras.layers.Activation('relu'))\n",
    "            model.add(keras.layers.AveragePooling2D(pool_size=(2, 2), padding='same'))\n",
    "            model.add(keras.layers.Dropout(.5))\n",
    "\n",
    "            model.add(keras.layers.Convolution2D(filters=128, kernel_size=(3, 3), padding='same'))\n",
    "            model.add(keras.layers.BatchNormalization())\n",
    "            model.add(keras.layers.Convolution2D(filters=128, kernel_size=(3, 3), padding='same'))\n",
    "            model.add(keras.layers.BatchNormalization())\n",
    "            model.add(keras.layers.Activation('relu'))\n",
    "            model.add(keras.layers.AveragePooling2D(pool_size=(2, 2), padding='same'))\n",
    "            model.add(keras.layers.Dropout(.5))\n",
    "\n",
    "            model.add(keras.layers.Convolution2D(filters=256, kernel_size=(3, 3), padding='same'))\n",
    "\n",
    "            model.add(keras.layers.BatchNormalization())\n",
    "            model.add(keras.layers.Convolution2D(filters= classes, kernel_size=(3, 3), padding='same'))\n",
    "            model.add(keras.layers.GlobalAveragePooling2D())\n",
    "            model.add(keras.layers.Activation('softmax',name='predictions'))\n",
    "        \n",
    "        \n",
    "        full_model = model            \n",
    "\n",
    "        full_model.compile(\n",
    "            optimizer=keras.optimizers.SGD(learning_rate=learning_rate),\n",
    "            loss = keras.losses.CategoricalCrossentropy(),\n",
    "            metrics=['accuracy']\n",
    "                           )\n",
    "        \n",
    "        full_model.summary()\n",
    "        return full_model\n",
    "    \n",
    "    def update_model(self):\n",
    "        self.full_model = self._prepare_full_model(\n",
    "            model = None, #self.model,\n",
    "            classes=self.config.params_classes,\n",
    "            freeze_all=False,\n",
    "            freeze_till= None,\n",
    "            learning_rate = self.config.params_learning_rate,\n",
    "            input_shape = self.config.params_image_size\n",
    "\n",
    "        )\n",
    "\n",
    "        save_object(path=self.config.updated_model_path, obj=self.full_model, h5=True)\n",
    "\n",
    "        "
   ]
  },
  {
   "cell_type": "code",
   "execution_count": 8,
   "metadata": {},
   "outputs": [
    {
     "name": "stderr",
     "output_type": "stream",
     "text": [
      "/home/paladin/Downloads/Facial_Impression_Recognition_Calassification/src/cnnClassifier/utils.py:127: UserWarning: You are saving your model as an HDF5 file via `model.save()`. This file format is considered legacy. We recommend using instead the native Keras format, e.g. `model.save('my_model.keras')`.\n",
      "  save_model(obj, path)\n"
     ]
    },
    {
     "ename": "CustomException",
     "evalue": "Error occured in python script name [/tmp/ipykernel_5860/3937778237.py] line number [6] error message ['PrepareBaseModel' object has no attribute 'update_base_model']",
     "output_type": "error",
     "traceback": [
      "\u001b[0;31m---------------------------------------------------------------------------\u001b[0m",
      "\u001b[0;31mAttributeError\u001b[0m                            Traceback (most recent call last)",
      "Cell \u001b[0;32mIn[8], line 6\u001b[0m\n\u001b[1;32m      5\u001b[0m     prepare_base_model\u001b[39m.\u001b[39mget_base_model()\n\u001b[0;32m----> 6\u001b[0m     prepare_base_model\u001b[39m.\u001b[39;49mupdate_base_model()\n\u001b[1;32m      8\u001b[0m \u001b[39mexcept\u001b[39;00m \u001b[39mException\u001b[39;00m \u001b[39mas\u001b[39;00m e:\n",
      "\u001b[0;31mAttributeError\u001b[0m: 'PrepareBaseModel' object has no attribute 'update_base_model'",
      "\nDuring handling of the above exception, another exception occurred:\n",
      "\u001b[0;31mCustomException\u001b[0m                           Traceback (most recent call last)",
      "Cell \u001b[0;32mIn[8], line 9\u001b[0m\n\u001b[1;32m      6\u001b[0m     prepare_base_model\u001b[39m.\u001b[39mupdate_base_model()\n\u001b[1;32m      8\u001b[0m \u001b[39mexcept\u001b[39;00m \u001b[39mException\u001b[39;00m \u001b[39mas\u001b[39;00m e:\n\u001b[0;32m----> 9\u001b[0m     \u001b[39mraise\u001b[39;00m CustomException(e, sys)\n",
      "\u001b[0;31mCustomException\u001b[0m: Error occured in python script name [/tmp/ipykernel_5860/3937778237.py] line number [6] error message ['PrepareBaseModel' object has no attribute 'update_base_model']"
     ]
    }
   ],
   "source": [
    "try:\n",
    "    config = configurationManeger()\n",
    "    prepare_base_model_config = config.get_prepare_base_model_config()\n",
    "    prepare_base_model = PrepareBaseModel(config=prepare_base_model_config)\n",
    "    prepare_base_model.get_base_model()\n",
    "    prepare_base_model.update_model()\n",
    "\n",
    "except Exception as e:\n",
    "    raise CustomException(e, sys)"
   ]
  }
 ],
 "metadata": {
  "kernelspec": {
   "display_name": "venv",
   "language": "python",
   "name": "python3"
  },
  "language_info": {
   "codemirror_mode": {
    "name": "ipython",
    "version": 3
   },
   "file_extension": ".py",
   "mimetype": "text/x-python",
   "name": "python",
   "nbconvert_exporter": "python",
   "pygments_lexer": "ipython3",
   "version": "3.8.6"
  },
  "orig_nbformat": 4
 },
 "nbformat": 4,
 "nbformat_minor": 2
}
