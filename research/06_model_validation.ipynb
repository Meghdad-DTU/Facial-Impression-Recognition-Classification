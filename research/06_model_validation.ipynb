{
 "cells": [
  {
   "cell_type": "code",
   "execution_count": 1,
   "metadata": {},
   "outputs": [],
   "source": [
    "import os"
   ]
  },
  {
   "cell_type": "code",
   "execution_count": 2,
   "metadata": {},
   "outputs": [
    {
     "data": {
      "text/plain": [
       "'/home/ec2-user/Face-Classification-Project/Facial_Impression_Recognition_Calassification'"
      ]
     },
     "execution_count": 2,
     "metadata": {},
     "output_type": "execute_result"
    }
   ],
   "source": [
    "os.chdir(\"../\")\n",
    "%pwd"
   ]
  },
  {
   "cell_type": "code",
   "execution_count": 3,
   "metadata": {},
   "outputs": [
    {
     "name": "stderr",
     "output_type": "stream",
     "text": [
      "2023-08-03 21:27:53.021442: I tensorflow/core/platform/cpu_feature_guard.cc:182] This TensorFlow binary is optimized to use available CPU instructions in performance-critical operations.\n",
      "To enable the following instructions: AVX2 FMA, in other operations, rebuild TensorFlow with the appropriate compiler flags.\n",
      "2023-08-03 21:27:53.954243: W tensorflow/compiler/tf2tensorrt/utils/py_utils.cc:38] TF-TRT Warning: Could not find TensorRT\n"
     ]
    }
   ],
   "source": [
    "from cnnClassifier.utils import load_object\n",
    "import keras"
   ]
  },
  {
   "cell_type": "code",
   "execution_count": 4,
   "metadata": {},
   "outputs": [],
   "source": [
    "from dataclasses import dataclass\n",
    "from pathlib import Path\n",
    "\n",
    "@dataclass(frozen=True)\n",
    "class EvaluationConfig:\n",
    "    path_of_model: Path \n",
    "    path_of_model_json: Path   \n",
    "    test_data: Path\n",
    "    all_params: dict\n",
    "    params_image_size: list\n",
    "    params_batch_size: int\n"
   ]
  },
  {
   "cell_type": "code",
   "execution_count": 5,
   "metadata": {},
   "outputs": [],
   "source": [
    "from cnnClassifier.constants import *\n",
    "from cnnClassifier.utils import read_yaml, create_directories"
   ]
  },
  {
   "cell_type": "code",
   "execution_count": 6,
   "metadata": {},
   "outputs": [],
   "source": [
    "class configurationManeger:\n",
    "    def __init__(self, \n",
    "                 config_filepath = CONFIG_FILE_PATH,\n",
    "                 secret_filepath = SECRET_FILE_PATH,                 \n",
    "                 params_filepath = PARAMS_FILE_PATH):\n",
    "        \n",
    "        self.config = read_yaml(config_filepath) \n",
    "        self.secret = read_yaml(secret_filepath)        \n",
    "        self.params = read_yaml(params_filepath)\n",
    "\n",
    "        create_directories([self.config.artifacts_root])  \n",
    "\n",
    "    def get_validation_config(self) -> EvaluationConfig:\n",
    "        eval_config = EvaluationConfig(\n",
    "            path_of_model= self.config.training.trained_model_path,\n",
    "            path_of_model_json=  self.config.training.trained_model_json_path,    \n",
    "            test_data= Path('artifacts/data_transformation/test'),\n",
    "            all_params = self.params,\n",
    "            params_image_size= self.params.IMAGE_SIZE,\n",
    "            params_batch_size= self.params.BATCH_SIZE\n",
    "            )\n",
    "        \n",
    "        return eval_config"
   ]
  },
  {
   "cell_type": "code",
   "execution_count": 7,
   "metadata": {},
   "outputs": [],
   "source": [
    "import sys\n",
    "from cnnClassifier.exception import CustomException\n",
    "from cnnClassifier.utils import save_json, load_model\n"
   ]
  },
  {
   "cell_type": "code",
   "execution_count": 8,
   "metadata": {},
   "outputs": [],
   "source": [
    "class Evaluation:\n",
    "    def __init__(self, config: EvaluationConfig):\n",
    "        self.config = config\n",
    "    \n",
    "    def _test_generator(self):\n",
    "\n",
    "        datagenerator_kwargs = dict(\n",
    "            # Dividing the pixels by 255 for normalization  => range(0,1)\n",
    "            # Scaling the pixels value in range(-1,1) by subtracting 0.5 and multiply 2\n",
    "            rescale= ((1./255) - 0.5)*2           \n",
    "            \n",
    "            \n",
    "        )\n",
    "\n",
    "        dataflow_kwargs = dict(\n",
    "            target_size=self.config.params_image_size[:-1],            \n",
    "            batch_size = self.config.params_batch_size,\n",
    "            interpolation= 'bilinear',\n",
    "            color_mode=\"grayscale\"\n",
    "        )\n",
    "\n",
    "        datagenerator = keras.preprocessing.image.ImageDataGenerator(\n",
    "                **datagenerator_kwargs\n",
    "        )\n",
    "        \n",
    "        ## NOTE: subset is added when we use validation_split, where directory for both training and validation is the same.\n",
    "        ## NOTE: shuffle= False for test as we want to check the performance model using predict_generator \n",
    "        self.test_generator = datagenerator.flow_from_directory(\n",
    "            directory= self.config.test_data,            \n",
    "            shuffle= False,            \n",
    "            **dataflow_kwargs\n",
    "            )\n",
    "       \n",
    "         \n",
    "    def evaluation(self):\n",
    "        model = load_model(h5_path= self.config.path_of_model, json_path= self.config.path_of_model_json)    \n",
    "        model.compile(optimizer=keras.optimizers.Adam(learning_rate=self.config.all_params['LEARNING_RATE']),\n",
    "            loss = keras.losses.CategoricalCrossentropy(),\n",
    "            metrics=['accuracy']\n",
    "                           )    \n",
    "        self._test_generator()\n",
    "        self.score = model.evaluate(self.test_generator)\n",
    "\n",
    "    def save_score(self):\n",
    "        scores = {'loss': self.score[0], 'accuracy': self.score[1]}\n",
    "        save_json(path='scores.json', data=scores)\n"
   ]
  },
  {
   "cell_type": "code",
   "execution_count": 10,
   "metadata": {},
   "outputs": [
    {
     "name": "stdout",
     "output_type": "stream",
     "text": [
      "Found 3589 images belonging to 7 classes.\n"
     ]
    },
    {
     "name": "stderr",
     "output_type": "stream",
     "text": [
      "2023-08-03 21:28:01.347217: E tensorflow/compiler/xla/stream_executor/cuda/cuda_dnn.cc:437] Could not create cudnn handle: CUDNN_STATUS_INTERNAL_ERROR\n",
      "2023-08-03 21:28:01.347294: E tensorflow/compiler/xla/stream_executor/cuda/cuda_dnn.cc:441] Memory usage: 2228224 bytes free, 16935419904 bytes total.\n",
      "2023-08-03 21:28:01.347320: W tensorflow/core/framework/op_kernel.cc:1828] OP_REQUIRES failed at conv_ops_impl.h:770 : UNIMPLEMENTED: DNN library is not found.\n"
     ]
    },
    {
     "ename": "CustomException",
     "evalue": "Error occured in python script name [/tmp/ipykernel_18968/2354789477.py] line number [5] error message [Graph execution error:\n\nDetected at node 'sequential_1/image_array/Conv2D' defined at (most recent call last):\n    File \"/usr/local/lib/python3.10/runpy.py\", line 196, in _run_module_as_main\n      return _run_code(code, main_globals, None,\n    File \"/usr/local/lib/python3.10/runpy.py\", line 86, in _run_code\n      exec(code, run_globals)\n    File \"/home/ec2-user/Face-Classification-Project/Facial_Impression_Recognition_Calassification/venv/lib/python3.10/site-packages/ipykernel_launcher.py\", line 17, in <module>\n      app.launch_new_instance()\n    File \"/home/ec2-user/Face-Classification-Project/Facial_Impression_Recognition_Calassification/venv/lib/python3.10/site-packages/traitlets/config/application.py\", line 1043, in launch_instance\n      app.start()\n    File \"/home/ec2-user/Face-Classification-Project/Facial_Impression_Recognition_Calassification/venv/lib/python3.10/site-packages/ipykernel/kernelapp.py\", line 736, in start\n      self.io_loop.start()\n    File \"/home/ec2-user/Face-Classification-Project/Facial_Impression_Recognition_Calassification/venv/lib/python3.10/site-packages/tornado/platform/asyncio.py\", line 195, in start\n      self.asyncio_loop.run_forever()\n    File \"/usr/local/lib/python3.10/asyncio/base_events.py\", line 603, in run_forever\n      self._run_once()\n    File \"/usr/local/lib/python3.10/asyncio/base_events.py\", line 1909, in _run_once\n      handle._run()\n    File \"/usr/local/lib/python3.10/asyncio/events.py\", line 80, in _run\n      self._context.run(self._callback, *self._args)\n    File \"/home/ec2-user/Face-Classification-Project/Facial_Impression_Recognition_Calassification/venv/lib/python3.10/site-packages/ipykernel/kernelbase.py\", line 516, in dispatch_queue\n      await self.process_one()\n    File \"/home/ec2-user/Face-Classification-Project/Facial_Impression_Recognition_Calassification/venv/lib/python3.10/site-packages/ipykernel/kernelbase.py\", line 505, in process_one\n      await dispatch(*args)\n    File \"/home/ec2-user/Face-Classification-Project/Facial_Impression_Recognition_Calassification/venv/lib/python3.10/site-packages/ipykernel/kernelbase.py\", line 412, in dispatch_shell\n      await result\n    File \"/home/ec2-user/Face-Classification-Project/Facial_Impression_Recognition_Calassification/venv/lib/python3.10/site-packages/ipykernel/kernelbase.py\", line 740, in execute_request\n      reply_content = await reply_content\n    File \"/home/ec2-user/Face-Classification-Project/Facial_Impression_Recognition_Calassification/venv/lib/python3.10/site-packages/ipykernel/ipkernel.py\", line 422, in do_execute\n      res = shell.run_cell(\n    File \"/home/ec2-user/Face-Classification-Project/Facial_Impression_Recognition_Calassification/venv/lib/python3.10/site-packages/ipykernel/zmqshell.py\", line 546, in run_cell\n      return super().run_cell(*args, **kwargs)\n    File \"/home/ec2-user/Face-Classification-Project/Facial_Impression_Recognition_Calassification/venv/lib/python3.10/site-packages/IPython/core/interactiveshell.py\", line 3009, in run_cell\n      result = self._run_cell(\n    File \"/home/ec2-user/Face-Classification-Project/Facial_Impression_Recognition_Calassification/venv/lib/python3.10/site-packages/IPython/core/interactiveshell.py\", line 3064, in _run_cell\n      result = runner(coro)\n    File \"/home/ec2-user/Face-Classification-Project/Facial_Impression_Recognition_Calassification/venv/lib/python3.10/site-packages/IPython/core/async_helpers.py\", line 129, in _pseudo_sync_runner\n      coro.send(None)\n    File \"/home/ec2-user/Face-Classification-Project/Facial_Impression_Recognition_Calassification/venv/lib/python3.10/site-packages/IPython/core/interactiveshell.py\", line 3269, in run_cell_async\n      has_raised = await self.run_ast_nodes(code_ast.body, cell_name,\n    File \"/home/ec2-user/Face-Classification-Project/Facial_Impression_Recognition_Calassification/venv/lib/python3.10/site-packages/IPython/core/interactiveshell.py\", line 3448, in run_ast_nodes\n      if await self.run_code(code, result, async_=asy):\n    File \"/home/ec2-user/Face-Classification-Project/Facial_Impression_Recognition_Calassification/venv/lib/python3.10/site-packages/IPython/core/interactiveshell.py\", line 3508, in run_code\n      exec(code_obj, self.user_global_ns, self.user_ns)\n    File \"/tmp/ipykernel_18968/2354789477.py\", line 5, in <module>\n      evaluation.evaluation()\n    File \"/tmp/ipykernel_18968/3856443243.py\", line 42, in evaluation\n      self.score = model.evaluate(self.test_generator)\n    File \"/home/ec2-user/Face-Classification-Project/Facial_Impression_Recognition_Calassification/venv/lib/python3.10/site-packages/keras/src/utils/traceback_utils.py\", line 65, in error_handler\n      return fn(*args, **kwargs)\n    File \"/home/ec2-user/Face-Classification-Project/Facial_Impression_Recognition_Calassification/venv/lib/python3.10/site-packages/keras/src/engine/training.py\", line 2200, in evaluate\n      logs = test_function_runner.run_step(\n    File \"/home/ec2-user/Face-Classification-Project/Facial_Impression_Recognition_Calassification/venv/lib/python3.10/site-packages/keras/src/engine/training.py\", line 4000, in run_step\n      tmp_logs = self._function(dataset_or_iterator)\n    File \"/home/ec2-user/Face-Classification-Project/Facial_Impression_Recognition_Calassification/venv/lib/python3.10/site-packages/keras/src/engine/training.py\", line 1972, in test_function\n      return step_function(self, iterator)\n    File \"/home/ec2-user/Face-Classification-Project/Facial_Impression_Recognition_Calassification/venv/lib/python3.10/site-packages/keras/src/engine/training.py\", line 1956, in step_function\n      outputs = model.distribute_strategy.run(run_step, args=(data,))\n    File \"/home/ec2-user/Face-Classification-Project/Facial_Impression_Recognition_Calassification/venv/lib/python3.10/site-packages/keras/src/engine/training.py\", line 1944, in run_step\n      outputs = model.test_step(data)\n    File \"/home/ec2-user/Face-Classification-Project/Facial_Impression_Recognition_Calassification/venv/lib/python3.10/site-packages/keras/src/engine/training.py\", line 1850, in test_step\n      y_pred = self(x, training=False)\n    File \"/home/ec2-user/Face-Classification-Project/Facial_Impression_Recognition_Calassification/venv/lib/python3.10/site-packages/keras/src/utils/traceback_utils.py\", line 65, in error_handler\n      return fn(*args, **kwargs)\n    File \"/home/ec2-user/Face-Classification-Project/Facial_Impression_Recognition_Calassification/venv/lib/python3.10/site-packages/keras/src/engine/training.py\", line 569, in __call__\n      return super().__call__(*args, **kwargs)\n    File \"/home/ec2-user/Face-Classification-Project/Facial_Impression_Recognition_Calassification/venv/lib/python3.10/site-packages/keras/src/utils/traceback_utils.py\", line 65, in error_handler\n      return fn(*args, **kwargs)\n    File \"/home/ec2-user/Face-Classification-Project/Facial_Impression_Recognition_Calassification/venv/lib/python3.10/site-packages/keras/src/engine/base_layer.py\", line 1150, in __call__\n      outputs = call_fn(inputs, *args, **kwargs)\n    File \"/home/ec2-user/Face-Classification-Project/Facial_Impression_Recognition_Calassification/venv/lib/python3.10/site-packages/keras/src/utils/traceback_utils.py\", line 96, in error_handler\n      return fn(*args, **kwargs)\n    File \"/home/ec2-user/Face-Classification-Project/Facial_Impression_Recognition_Calassification/venv/lib/python3.10/site-packages/keras/src/engine/sequential.py\", line 405, in call\n      return super().call(inputs, training=training, mask=mask)\n    File \"/home/ec2-user/Face-Classification-Project/Facial_Impression_Recognition_Calassification/venv/lib/python3.10/site-packages/keras/src/engine/functional.py\", line 512, in call\n      return self._run_internal_graph(inputs, training=training, mask=mask)\n    File \"/home/ec2-user/Face-Classification-Project/Facial_Impression_Recognition_Calassification/venv/lib/python3.10/site-packages/keras/src/engine/functional.py\", line 669, in _run_internal_graph\n      outputs = node.layer(*args, **kwargs)\n    File \"/home/ec2-user/Face-Classification-Project/Facial_Impression_Recognition_Calassification/venv/lib/python3.10/site-packages/keras/src/utils/traceback_utils.py\", line 65, in error_handler\n      return fn(*args, **kwargs)\n    File \"/home/ec2-user/Face-Classification-Project/Facial_Impression_Recognition_Calassification/venv/lib/python3.10/site-packages/keras/src/engine/base_layer.py\", line 1150, in __call__\n      outputs = call_fn(inputs, *args, **kwargs)\n    File \"/home/ec2-user/Face-Classification-Project/Facial_Impression_Recognition_Calassification/venv/lib/python3.10/site-packages/keras/src/utils/traceback_utils.py\", line 96, in error_handler\n      return fn(*args, **kwargs)\n    File \"/home/ec2-user/Face-Classification-Project/Facial_Impression_Recognition_Calassification/venv/lib/python3.10/site-packages/keras/src/layers/convolutional/base_conv.py\", line 290, in call\n      outputs = self.convolution_op(inputs, self.kernel)\n    File \"/home/ec2-user/Face-Classification-Project/Facial_Impression_Recognition_Calassification/venv/lib/python3.10/site-packages/keras/src/layers/convolutional/base_conv.py\", line 262, in convolution_op\n      return tf.nn.convolution(\nNode: 'sequential_1/image_array/Conv2D'\nDNN library is not found.\n\t [[{{node sequential_1/image_array/Conv2D}}]] [Op:__inference_test_function_2151]]",
     "output_type": "error",
     "traceback": [
      "\u001b[0;31m---------------------------------------------------------------------------\u001b[0m",
      "\u001b[0;31mUnimplementedError\u001b[0m                        Traceback (most recent call last)",
      "Cell \u001b[0;32mIn[10], line 5\u001b[0m\n\u001b[1;32m      4\u001b[0m evaluation \u001b[38;5;241m=\u001b[39m Evaluation(val_config)\n\u001b[0;32m----> 5\u001b[0m \u001b[43mevaluation\u001b[49m\u001b[38;5;241;43m.\u001b[39;49m\u001b[43mevaluation\u001b[49m\u001b[43m(\u001b[49m\u001b[43m)\u001b[49m\n\u001b[1;32m      6\u001b[0m evaluation\u001b[38;5;241m.\u001b[39msave_score()\n",
      "Cell \u001b[0;32mIn[8], line 42\u001b[0m, in \u001b[0;36mEvaluation.evaluation\u001b[0;34m(self)\u001b[0m\n\u001b[1;32m     41\u001b[0m \u001b[38;5;28mself\u001b[39m\u001b[38;5;241m.\u001b[39m_test_generator()\n\u001b[0;32m---> 42\u001b[0m \u001b[38;5;28mself\u001b[39m\u001b[38;5;241m.\u001b[39mscore \u001b[38;5;241m=\u001b[39m \u001b[43mmodel\u001b[49m\u001b[38;5;241;43m.\u001b[39;49m\u001b[43mevaluate\u001b[49m\u001b[43m(\u001b[49m\u001b[38;5;28;43mself\u001b[39;49m\u001b[38;5;241;43m.\u001b[39;49m\u001b[43mtest_generator\u001b[49m\u001b[43m)\u001b[49m\n",
      "File \u001b[0;32m~/Face-Classification-Project/Facial_Impression_Recognition_Calassification/venv/lib/python3.10/site-packages/keras/src/utils/traceback_utils.py:70\u001b[0m, in \u001b[0;36mfilter_traceback.<locals>.error_handler\u001b[0;34m(*args, **kwargs)\u001b[0m\n\u001b[1;32m     68\u001b[0m     \u001b[38;5;66;03m# To get the full stack trace, call:\u001b[39;00m\n\u001b[1;32m     69\u001b[0m     \u001b[38;5;66;03m# `tf.debugging.disable_traceback_filtering()`\u001b[39;00m\n\u001b[0;32m---> 70\u001b[0m     \u001b[38;5;28;01mraise\u001b[39;00m e\u001b[38;5;241m.\u001b[39mwith_traceback(filtered_tb) \u001b[38;5;28;01mfrom\u001b[39;00m \u001b[38;5;28;01mNone\u001b[39;00m\n\u001b[1;32m     71\u001b[0m \u001b[38;5;28;01mfinally\u001b[39;00m:\n",
      "File \u001b[0;32m~/Face-Classification-Project/Facial_Impression_Recognition_Calassification/venv/lib/python3.10/site-packages/tensorflow/python/eager/execute.py:53\u001b[0m, in \u001b[0;36mquick_execute\u001b[0;34m(op_name, num_outputs, inputs, attrs, ctx, name)\u001b[0m\n\u001b[1;32m     52\u001b[0m   ctx\u001b[38;5;241m.\u001b[39mensure_initialized()\n\u001b[0;32m---> 53\u001b[0m   tensors \u001b[38;5;241m=\u001b[39m pywrap_tfe\u001b[38;5;241m.\u001b[39mTFE_Py_Execute(ctx\u001b[38;5;241m.\u001b[39m_handle, device_name, op_name,\n\u001b[1;32m     54\u001b[0m                                       inputs, attrs, num_outputs)\n\u001b[1;32m     55\u001b[0m \u001b[38;5;28;01mexcept\u001b[39;00m core\u001b[38;5;241m.\u001b[39m_NotOkStatusException \u001b[38;5;28;01mas\u001b[39;00m e:\n",
      "\u001b[0;31mUnimplementedError\u001b[0m: Graph execution error:\n\nDetected at node 'sequential_1/image_array/Conv2D' defined at (most recent call last):\n    File \"/usr/local/lib/python3.10/runpy.py\", line 196, in _run_module_as_main\n      return _run_code(code, main_globals, None,\n    File \"/usr/local/lib/python3.10/runpy.py\", line 86, in _run_code\n      exec(code, run_globals)\n    File \"/home/ec2-user/Face-Classification-Project/Facial_Impression_Recognition_Calassification/venv/lib/python3.10/site-packages/ipykernel_launcher.py\", line 17, in <module>\n      app.launch_new_instance()\n    File \"/home/ec2-user/Face-Classification-Project/Facial_Impression_Recognition_Calassification/venv/lib/python3.10/site-packages/traitlets/config/application.py\", line 1043, in launch_instance\n      app.start()\n    File \"/home/ec2-user/Face-Classification-Project/Facial_Impression_Recognition_Calassification/venv/lib/python3.10/site-packages/ipykernel/kernelapp.py\", line 736, in start\n      self.io_loop.start()\n    File \"/home/ec2-user/Face-Classification-Project/Facial_Impression_Recognition_Calassification/venv/lib/python3.10/site-packages/tornado/platform/asyncio.py\", line 195, in start\n      self.asyncio_loop.run_forever()\n    File \"/usr/local/lib/python3.10/asyncio/base_events.py\", line 603, in run_forever\n      self._run_once()\n    File \"/usr/local/lib/python3.10/asyncio/base_events.py\", line 1909, in _run_once\n      handle._run()\n    File \"/usr/local/lib/python3.10/asyncio/events.py\", line 80, in _run\n      self._context.run(self._callback, *self._args)\n    File \"/home/ec2-user/Face-Classification-Project/Facial_Impression_Recognition_Calassification/venv/lib/python3.10/site-packages/ipykernel/kernelbase.py\", line 516, in dispatch_queue\n      await self.process_one()\n    File \"/home/ec2-user/Face-Classification-Project/Facial_Impression_Recognition_Calassification/venv/lib/python3.10/site-packages/ipykernel/kernelbase.py\", line 505, in process_one\n      await dispatch(*args)\n    File \"/home/ec2-user/Face-Classification-Project/Facial_Impression_Recognition_Calassification/venv/lib/python3.10/site-packages/ipykernel/kernelbase.py\", line 412, in dispatch_shell\n      await result\n    File \"/home/ec2-user/Face-Classification-Project/Facial_Impression_Recognition_Calassification/venv/lib/python3.10/site-packages/ipykernel/kernelbase.py\", line 740, in execute_request\n      reply_content = await reply_content\n    File \"/home/ec2-user/Face-Classification-Project/Facial_Impression_Recognition_Calassification/venv/lib/python3.10/site-packages/ipykernel/ipkernel.py\", line 422, in do_execute\n      res = shell.run_cell(\n    File \"/home/ec2-user/Face-Classification-Project/Facial_Impression_Recognition_Calassification/venv/lib/python3.10/site-packages/ipykernel/zmqshell.py\", line 546, in run_cell\n      return super().run_cell(*args, **kwargs)\n    File \"/home/ec2-user/Face-Classification-Project/Facial_Impression_Recognition_Calassification/venv/lib/python3.10/site-packages/IPython/core/interactiveshell.py\", line 3009, in run_cell\n      result = self._run_cell(\n    File \"/home/ec2-user/Face-Classification-Project/Facial_Impression_Recognition_Calassification/venv/lib/python3.10/site-packages/IPython/core/interactiveshell.py\", line 3064, in _run_cell\n      result = runner(coro)\n    File \"/home/ec2-user/Face-Classification-Project/Facial_Impression_Recognition_Calassification/venv/lib/python3.10/site-packages/IPython/core/async_helpers.py\", line 129, in _pseudo_sync_runner\n      coro.send(None)\n    File \"/home/ec2-user/Face-Classification-Project/Facial_Impression_Recognition_Calassification/venv/lib/python3.10/site-packages/IPython/core/interactiveshell.py\", line 3269, in run_cell_async\n      has_raised = await self.run_ast_nodes(code_ast.body, cell_name,\n    File \"/home/ec2-user/Face-Classification-Project/Facial_Impression_Recognition_Calassification/venv/lib/python3.10/site-packages/IPython/core/interactiveshell.py\", line 3448, in run_ast_nodes\n      if await self.run_code(code, result, async_=asy):\n    File \"/home/ec2-user/Face-Classification-Project/Facial_Impression_Recognition_Calassification/venv/lib/python3.10/site-packages/IPython/core/interactiveshell.py\", line 3508, in run_code\n      exec(code_obj, self.user_global_ns, self.user_ns)\n    File \"/tmp/ipykernel_18968/2354789477.py\", line 5, in <module>\n      evaluation.evaluation()\n    File \"/tmp/ipykernel_18968/3856443243.py\", line 42, in evaluation\n      self.score = model.evaluate(self.test_generator)\n    File \"/home/ec2-user/Face-Classification-Project/Facial_Impression_Recognition_Calassification/venv/lib/python3.10/site-packages/keras/src/utils/traceback_utils.py\", line 65, in error_handler\n      return fn(*args, **kwargs)\n    File \"/home/ec2-user/Face-Classification-Project/Facial_Impression_Recognition_Calassification/venv/lib/python3.10/site-packages/keras/src/engine/training.py\", line 2200, in evaluate\n      logs = test_function_runner.run_step(\n    File \"/home/ec2-user/Face-Classification-Project/Facial_Impression_Recognition_Calassification/venv/lib/python3.10/site-packages/keras/src/engine/training.py\", line 4000, in run_step\n      tmp_logs = self._function(dataset_or_iterator)\n    File \"/home/ec2-user/Face-Classification-Project/Facial_Impression_Recognition_Calassification/venv/lib/python3.10/site-packages/keras/src/engine/training.py\", line 1972, in test_function\n      return step_function(self, iterator)\n    File \"/home/ec2-user/Face-Classification-Project/Facial_Impression_Recognition_Calassification/venv/lib/python3.10/site-packages/keras/src/engine/training.py\", line 1956, in step_function\n      outputs = model.distribute_strategy.run(run_step, args=(data,))\n    File \"/home/ec2-user/Face-Classification-Project/Facial_Impression_Recognition_Calassification/venv/lib/python3.10/site-packages/keras/src/engine/training.py\", line 1944, in run_step\n      outputs = model.test_step(data)\n    File \"/home/ec2-user/Face-Classification-Project/Facial_Impression_Recognition_Calassification/venv/lib/python3.10/site-packages/keras/src/engine/training.py\", line 1850, in test_step\n      y_pred = self(x, training=False)\n    File \"/home/ec2-user/Face-Classification-Project/Facial_Impression_Recognition_Calassification/venv/lib/python3.10/site-packages/keras/src/utils/traceback_utils.py\", line 65, in error_handler\n      return fn(*args, **kwargs)\n    File \"/home/ec2-user/Face-Classification-Project/Facial_Impression_Recognition_Calassification/venv/lib/python3.10/site-packages/keras/src/engine/training.py\", line 569, in __call__\n      return super().__call__(*args, **kwargs)\n    File \"/home/ec2-user/Face-Classification-Project/Facial_Impression_Recognition_Calassification/venv/lib/python3.10/site-packages/keras/src/utils/traceback_utils.py\", line 65, in error_handler\n      return fn(*args, **kwargs)\n    File \"/home/ec2-user/Face-Classification-Project/Facial_Impression_Recognition_Calassification/venv/lib/python3.10/site-packages/keras/src/engine/base_layer.py\", line 1150, in __call__\n      outputs = call_fn(inputs, *args, **kwargs)\n    File \"/home/ec2-user/Face-Classification-Project/Facial_Impression_Recognition_Calassification/venv/lib/python3.10/site-packages/keras/src/utils/traceback_utils.py\", line 96, in error_handler\n      return fn(*args, **kwargs)\n    File \"/home/ec2-user/Face-Classification-Project/Facial_Impression_Recognition_Calassification/venv/lib/python3.10/site-packages/keras/src/engine/sequential.py\", line 405, in call\n      return super().call(inputs, training=training, mask=mask)\n    File \"/home/ec2-user/Face-Classification-Project/Facial_Impression_Recognition_Calassification/venv/lib/python3.10/site-packages/keras/src/engine/functional.py\", line 512, in call\n      return self._run_internal_graph(inputs, training=training, mask=mask)\n    File \"/home/ec2-user/Face-Classification-Project/Facial_Impression_Recognition_Calassification/venv/lib/python3.10/site-packages/keras/src/engine/functional.py\", line 669, in _run_internal_graph\n      outputs = node.layer(*args, **kwargs)\n    File \"/home/ec2-user/Face-Classification-Project/Facial_Impression_Recognition_Calassification/venv/lib/python3.10/site-packages/keras/src/utils/traceback_utils.py\", line 65, in error_handler\n      return fn(*args, **kwargs)\n    File \"/home/ec2-user/Face-Classification-Project/Facial_Impression_Recognition_Calassification/venv/lib/python3.10/site-packages/keras/src/engine/base_layer.py\", line 1150, in __call__\n      outputs = call_fn(inputs, *args, **kwargs)\n    File \"/home/ec2-user/Face-Classification-Project/Facial_Impression_Recognition_Calassification/venv/lib/python3.10/site-packages/keras/src/utils/traceback_utils.py\", line 96, in error_handler\n      return fn(*args, **kwargs)\n    File \"/home/ec2-user/Face-Classification-Project/Facial_Impression_Recognition_Calassification/venv/lib/python3.10/site-packages/keras/src/layers/convolutional/base_conv.py\", line 290, in call\n      outputs = self.convolution_op(inputs, self.kernel)\n    File \"/home/ec2-user/Face-Classification-Project/Facial_Impression_Recognition_Calassification/venv/lib/python3.10/site-packages/keras/src/layers/convolutional/base_conv.py\", line 262, in convolution_op\n      return tf.nn.convolution(\nNode: 'sequential_1/image_array/Conv2D'\nDNN library is not found.\n\t [[{{node sequential_1/image_array/Conv2D}}]] [Op:__inference_test_function_2151]",
      "\nDuring handling of the above exception, another exception occurred:\n",
      "\u001b[0;31mCustomException\u001b[0m                           Traceback (most recent call last)",
      "Cell \u001b[0;32mIn[10], line 8\u001b[0m\n\u001b[1;32m      6\u001b[0m     evaluation\u001b[38;5;241m.\u001b[39msave_score()\n\u001b[1;32m      7\u001b[0m \u001b[38;5;28;01mexcept\u001b[39;00m \u001b[38;5;167;01mException\u001b[39;00m \u001b[38;5;28;01mas\u001b[39;00m e:\n\u001b[0;32m----> 8\u001b[0m     \u001b[38;5;28;01mraise\u001b[39;00m CustomException(e, sys)\n",
      "\u001b[0;31mCustomException\u001b[0m: Error occured in python script name [/tmp/ipykernel_18968/2354789477.py] line number [5] error message [Graph execution error:\n\nDetected at node 'sequential_1/image_array/Conv2D' defined at (most recent call last):\n    File \"/usr/local/lib/python3.10/runpy.py\", line 196, in _run_module_as_main\n      return _run_code(code, main_globals, None,\n    File \"/usr/local/lib/python3.10/runpy.py\", line 86, in _run_code\n      exec(code, run_globals)\n    File \"/home/ec2-user/Face-Classification-Project/Facial_Impression_Recognition_Calassification/venv/lib/python3.10/site-packages/ipykernel_launcher.py\", line 17, in <module>\n      app.launch_new_instance()\n    File \"/home/ec2-user/Face-Classification-Project/Facial_Impression_Recognition_Calassification/venv/lib/python3.10/site-packages/traitlets/config/application.py\", line 1043, in launch_instance\n      app.start()\n    File \"/home/ec2-user/Face-Classification-Project/Facial_Impression_Recognition_Calassification/venv/lib/python3.10/site-packages/ipykernel/kernelapp.py\", line 736, in start\n      self.io_loop.start()\n    File \"/home/ec2-user/Face-Classification-Project/Facial_Impression_Recognition_Calassification/venv/lib/python3.10/site-packages/tornado/platform/asyncio.py\", line 195, in start\n      self.asyncio_loop.run_forever()\n    File \"/usr/local/lib/python3.10/asyncio/base_events.py\", line 603, in run_forever\n      self._run_once()\n    File \"/usr/local/lib/python3.10/asyncio/base_events.py\", line 1909, in _run_once\n      handle._run()\n    File \"/usr/local/lib/python3.10/asyncio/events.py\", line 80, in _run\n      self._context.run(self._callback, *self._args)\n    File \"/home/ec2-user/Face-Classification-Project/Facial_Impression_Recognition_Calassification/venv/lib/python3.10/site-packages/ipykernel/kernelbase.py\", line 516, in dispatch_queue\n      await self.process_one()\n    File \"/home/ec2-user/Face-Classification-Project/Facial_Impression_Recognition_Calassification/venv/lib/python3.10/site-packages/ipykernel/kernelbase.py\", line 505, in process_one\n      await dispatch(*args)\n    File \"/home/ec2-user/Face-Classification-Project/Facial_Impression_Recognition_Calassification/venv/lib/python3.10/site-packages/ipykernel/kernelbase.py\", line 412, in dispatch_shell\n      await result\n    File \"/home/ec2-user/Face-Classification-Project/Facial_Impression_Recognition_Calassification/venv/lib/python3.10/site-packages/ipykernel/kernelbase.py\", line 740, in execute_request\n      reply_content = await reply_content\n    File \"/home/ec2-user/Face-Classification-Project/Facial_Impression_Recognition_Calassification/venv/lib/python3.10/site-packages/ipykernel/ipkernel.py\", line 422, in do_execute\n      res = shell.run_cell(\n    File \"/home/ec2-user/Face-Classification-Project/Facial_Impression_Recognition_Calassification/venv/lib/python3.10/site-packages/ipykernel/zmqshell.py\", line 546, in run_cell\n      return super().run_cell(*args, **kwargs)\n    File \"/home/ec2-user/Face-Classification-Project/Facial_Impression_Recognition_Calassification/venv/lib/python3.10/site-packages/IPython/core/interactiveshell.py\", line 3009, in run_cell\n      result = self._run_cell(\n    File \"/home/ec2-user/Face-Classification-Project/Facial_Impression_Recognition_Calassification/venv/lib/python3.10/site-packages/IPython/core/interactiveshell.py\", line 3064, in _run_cell\n      result = runner(coro)\n    File \"/home/ec2-user/Face-Classification-Project/Facial_Impression_Recognition_Calassification/venv/lib/python3.10/site-packages/IPython/core/async_helpers.py\", line 129, in _pseudo_sync_runner\n      coro.send(None)\n    File \"/home/ec2-user/Face-Classification-Project/Facial_Impression_Recognition_Calassification/venv/lib/python3.10/site-packages/IPython/core/interactiveshell.py\", line 3269, in run_cell_async\n      has_raised = await self.run_ast_nodes(code_ast.body, cell_name,\n    File \"/home/ec2-user/Face-Classification-Project/Facial_Impression_Recognition_Calassification/venv/lib/python3.10/site-packages/IPython/core/interactiveshell.py\", line 3448, in run_ast_nodes\n      if await self.run_code(code, result, async_=asy):\n    File \"/home/ec2-user/Face-Classification-Project/Facial_Impression_Recognition_Calassification/venv/lib/python3.10/site-packages/IPython/core/interactiveshell.py\", line 3508, in run_code\n      exec(code_obj, self.user_global_ns, self.user_ns)\n    File \"/tmp/ipykernel_18968/2354789477.py\", line 5, in <module>\n      evaluation.evaluation()\n    File \"/tmp/ipykernel_18968/3856443243.py\", line 42, in evaluation\n      self.score = model.evaluate(self.test_generator)\n    File \"/home/ec2-user/Face-Classification-Project/Facial_Impression_Recognition_Calassification/venv/lib/python3.10/site-packages/keras/src/utils/traceback_utils.py\", line 65, in error_handler\n      return fn(*args, **kwargs)\n    File \"/home/ec2-user/Face-Classification-Project/Facial_Impression_Recognition_Calassification/venv/lib/python3.10/site-packages/keras/src/engine/training.py\", line 2200, in evaluate\n      logs = test_function_runner.run_step(\n    File \"/home/ec2-user/Face-Classification-Project/Facial_Impression_Recognition_Calassification/venv/lib/python3.10/site-packages/keras/src/engine/training.py\", line 4000, in run_step\n      tmp_logs = self._function(dataset_or_iterator)\n    File \"/home/ec2-user/Face-Classification-Project/Facial_Impression_Recognition_Calassification/venv/lib/python3.10/site-packages/keras/src/engine/training.py\", line 1972, in test_function\n      return step_function(self, iterator)\n    File \"/home/ec2-user/Face-Classification-Project/Facial_Impression_Recognition_Calassification/venv/lib/python3.10/site-packages/keras/src/engine/training.py\", line 1956, in step_function\n      outputs = model.distribute_strategy.run(run_step, args=(data,))\n    File \"/home/ec2-user/Face-Classification-Project/Facial_Impression_Recognition_Calassification/venv/lib/python3.10/site-packages/keras/src/engine/training.py\", line 1944, in run_step\n      outputs = model.test_step(data)\n    File \"/home/ec2-user/Face-Classification-Project/Facial_Impression_Recognition_Calassification/venv/lib/python3.10/site-packages/keras/src/engine/training.py\", line 1850, in test_step\n      y_pred = self(x, training=False)\n    File \"/home/ec2-user/Face-Classification-Project/Facial_Impression_Recognition_Calassification/venv/lib/python3.10/site-packages/keras/src/utils/traceback_utils.py\", line 65, in error_handler\n      return fn(*args, **kwargs)\n    File \"/home/ec2-user/Face-Classification-Project/Facial_Impression_Recognition_Calassification/venv/lib/python3.10/site-packages/keras/src/engine/training.py\", line 569, in __call__\n      return super().__call__(*args, **kwargs)\n    File \"/home/ec2-user/Face-Classification-Project/Facial_Impression_Recognition_Calassification/venv/lib/python3.10/site-packages/keras/src/utils/traceback_utils.py\", line 65, in error_handler\n      return fn(*args, **kwargs)\n    File \"/home/ec2-user/Face-Classification-Project/Facial_Impression_Recognition_Calassification/venv/lib/python3.10/site-packages/keras/src/engine/base_layer.py\", line 1150, in __call__\n      outputs = call_fn(inputs, *args, **kwargs)\n    File \"/home/ec2-user/Face-Classification-Project/Facial_Impression_Recognition_Calassification/venv/lib/python3.10/site-packages/keras/src/utils/traceback_utils.py\", line 96, in error_handler\n      return fn(*args, **kwargs)\n    File \"/home/ec2-user/Face-Classification-Project/Facial_Impression_Recognition_Calassification/venv/lib/python3.10/site-packages/keras/src/engine/sequential.py\", line 405, in call\n      return super().call(inputs, training=training, mask=mask)\n    File \"/home/ec2-user/Face-Classification-Project/Facial_Impression_Recognition_Calassification/venv/lib/python3.10/site-packages/keras/src/engine/functional.py\", line 512, in call\n      return self._run_internal_graph(inputs, training=training, mask=mask)\n    File \"/home/ec2-user/Face-Classification-Project/Facial_Impression_Recognition_Calassification/venv/lib/python3.10/site-packages/keras/src/engine/functional.py\", line 669, in _run_internal_graph\n      outputs = node.layer(*args, **kwargs)\n    File \"/home/ec2-user/Face-Classification-Project/Facial_Impression_Recognition_Calassification/venv/lib/python3.10/site-packages/keras/src/utils/traceback_utils.py\", line 65, in error_handler\n      return fn(*args, **kwargs)\n    File \"/home/ec2-user/Face-Classification-Project/Facial_Impression_Recognition_Calassification/venv/lib/python3.10/site-packages/keras/src/engine/base_layer.py\", line 1150, in __call__\n      outputs = call_fn(inputs, *args, **kwargs)\n    File \"/home/ec2-user/Face-Classification-Project/Facial_Impression_Recognition_Calassification/venv/lib/python3.10/site-packages/keras/src/utils/traceback_utils.py\", line 96, in error_handler\n      return fn(*args, **kwargs)\n    File \"/home/ec2-user/Face-Classification-Project/Facial_Impression_Recognition_Calassification/venv/lib/python3.10/site-packages/keras/src/layers/convolutional/base_conv.py\", line 290, in call\n      outputs = self.convolution_op(inputs, self.kernel)\n    File \"/home/ec2-user/Face-Classification-Project/Facial_Impression_Recognition_Calassification/venv/lib/python3.10/site-packages/keras/src/layers/convolutional/base_conv.py\", line 262, in convolution_op\n      return tf.nn.convolution(\nNode: 'sequential_1/image_array/Conv2D'\nDNN library is not found.\n\t [[{{node sequential_1/image_array/Conv2D}}]] [Op:__inference_test_function_2151]]"
     ]
    }
   ],
   "source": [
    "try:\n",
    "    config = configurationManeger()\n",
    "    val_config = config.get_validation_config()\n",
    "    evaluation = Evaluation(val_config)\n",
    "    evaluation.evaluation()\n",
    "    evaluation.save_score()\n",
    "except Exception as e:\n",
    "    raise CustomException(e, sys)\n"
   ]
  }
 ],
 "metadata": {
  "kernelspec": {
   "display_name": "Python 3 (ipykernel)",
   "language": "python",
   "name": "python3"
  },
  "language_info": {
   "codemirror_mode": {
    "name": "ipython",
    "version": 3
   },
   "file_extension": ".py",
   "mimetype": "text/x-python",
   "name": "python",
   "nbconvert_exporter": "python",
   "pygments_lexer": "ipython3",
   "version": "3.10.12"
  }
 },
 "nbformat": 4,
 "nbformat_minor": 4
}
